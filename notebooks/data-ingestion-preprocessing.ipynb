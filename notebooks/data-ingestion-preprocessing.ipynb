{
 "cells": [
  {
   "cell_type": "code",
   "execution_count": 1,
   "id": "034ad228",
   "metadata": {},
   "outputs": [],
   "source": [
    "%load_ext autoreload\n",
    "%autoreload 2"
   ]
  },
  {
   "cell_type": "code",
   "execution_count": 2,
   "id": "079d86e8",
   "metadata": {},
   "outputs": [],
   "source": [
    "import pandas as pd\n",
    "import numpy as np\n",
    "import matplotlib.pyplot as plt\n",
    "import seaborn as sns\n",
    "import sys\n",
    "import os\n",
    "\n",
    "import time\n",
    "import warnings\n",
    "\n",
    "warnings.filterwarnings('ignore')"
   ]
  },
  {
   "cell_type": "code",
   "execution_count": 3,
   "id": "b2d7677c",
   "metadata": {},
   "outputs": [],
   "source": [
    "sys.path.append(os.path.abspath('../scripts/'))"
   ]
  },
  {
   "cell_type": "code",
   "execution_count": 4,
   "id": "88d5b19a",
   "metadata": {},
   "outputs": [],
   "source": [
    "from data_loader import load_data, label_content\n"
   ]
  },
  {
   "cell_type": "code",
   "execution_count": 5,
   "id": "2b4cfce2",
   "metadata": {},
   "outputs": [],
   "source": [
    "df = load_data('../data/telegram_data.csv')"
   ]
  },
  {
   "cell_type": "code",
   "execution_count": 6,
   "id": "8be3f0e4",
   "metadata": {},
   "outputs": [
    {
     "data": {
      "text/plain": [
       "(37378, 6)"
      ]
     },
     "execution_count": 6,
     "metadata": {},
     "output_type": "execute_result"
    }
   ],
   "source": [
    "df.shape"
   ]
  },
  {
   "cell_type": "code",
   "execution_count": 7,
   "id": "53bf2088",
   "metadata": {},
   "outputs": [
    {
     "data": {
      "text/html": [
       "<div>\n",
       "<style scoped>\n",
       "    .dataframe tbody tr th:only-of-type {\n",
       "        vertical-align: middle;\n",
       "    }\n",
       "\n",
       "    .dataframe tbody tr th {\n",
       "        vertical-align: top;\n",
       "    }\n",
       "\n",
       "    .dataframe thead th {\n",
       "        text-align: right;\n",
       "    }\n",
       "</style>\n",
       "<table border=\"1\" class=\"dataframe\">\n",
       "  <thead>\n",
       "    <tr style=\"text-align: right;\">\n",
       "      <th></th>\n",
       "      <th>Channel Title</th>\n",
       "      <th>Channel Username</th>\n",
       "      <th>ID</th>\n",
       "      <th>Message</th>\n",
       "      <th>Date</th>\n",
       "      <th>Media Path</th>\n",
       "    </tr>\n",
       "  </thead>\n",
       "  <tbody>\n",
       "    <tr>\n",
       "      <th>0</th>\n",
       "      <td>Zemen Express®</td>\n",
       "      <td>@ZemenExpress</td>\n",
       "      <td>6982</td>\n",
       "      <td>💥💥...................................💥💥\\n\\n📌Im...</td>\n",
       "      <td>2025-06-18 06:01:10+00:00</td>\n",
       "      <td>NaN</td>\n",
       "    </tr>\n",
       "    <tr>\n",
       "      <th>1</th>\n",
       "      <td>Zemen Express®</td>\n",
       "      <td>@ZemenExpress</td>\n",
       "      <td>6981</td>\n",
       "      <td>💥💥...................................💥💥\\n\\n📌 B...</td>\n",
       "      <td>2025-06-16 12:21:00+00:00</td>\n",
       "      <td>NaN</td>\n",
       "    </tr>\n",
       "    <tr>\n",
       "      <th>2</th>\n",
       "      <td>Zemen Express®</td>\n",
       "      <td>@ZemenExpress</td>\n",
       "      <td>6980</td>\n",
       "      <td>NaN</td>\n",
       "      <td>2025-06-16 05:11:57+00:00</td>\n",
       "      <td>data\\photos\\@ZemenExpress_6980.jpg</td>\n",
       "    </tr>\n",
       "    <tr>\n",
       "      <th>3</th>\n",
       "      <td>Zemen Express®</td>\n",
       "      <td>@ZemenExpress</td>\n",
       "      <td>6979</td>\n",
       "      <td>NaN</td>\n",
       "      <td>2025-06-16 05:11:57+00:00</td>\n",
       "      <td>data\\photos\\@ZemenExpress_6979.jpg</td>\n",
       "    </tr>\n",
       "    <tr>\n",
       "      <th>4</th>\n",
       "      <td>Zemen Express®</td>\n",
       "      <td>@ZemenExpress</td>\n",
       "      <td>6978</td>\n",
       "      <td>NaN</td>\n",
       "      <td>2025-06-16 05:11:57+00:00</td>\n",
       "      <td>data\\photos\\@ZemenExpress_6978.jpg</td>\n",
       "    </tr>\n",
       "  </tbody>\n",
       "</table>\n",
       "</div>"
      ],
      "text/plain": [
       "    Channel Title Channel Username    ID  \\\n",
       "0  Zemen Express®    @ZemenExpress  6982   \n",
       "1  Zemen Express®    @ZemenExpress  6981   \n",
       "2  Zemen Express®    @ZemenExpress  6980   \n",
       "3  Zemen Express®    @ZemenExpress  6979   \n",
       "4  Zemen Express®    @ZemenExpress  6978   \n",
       "\n",
       "                                             Message  \\\n",
       "0  💥💥...................................💥💥\\n\\n📌Im...   \n",
       "1  💥💥...................................💥💥\\n\\n📌 B...   \n",
       "2                                                NaN   \n",
       "3                                                NaN   \n",
       "4                                                NaN   \n",
       "\n",
       "                        Date                          Media Path  \n",
       "0  2025-06-18 06:01:10+00:00                                 NaN  \n",
       "1  2025-06-16 12:21:00+00:00                                 NaN  \n",
       "2  2025-06-16 05:11:57+00:00  data\\photos\\@ZemenExpress_6980.jpg  \n",
       "3  2025-06-16 05:11:57+00:00  data\\photos\\@ZemenExpress_6979.jpg  \n",
       "4  2025-06-16 05:11:57+00:00  data\\photos\\@ZemenExpress_6978.jpg  "
      ]
     },
     "execution_count": 7,
     "metadata": {},
     "output_type": "execute_result"
    }
   ],
   "source": [
    "df.head()"
   ]
  },
  {
   "cell_type": "code",
   "execution_count": 8,
   "id": "36771c69",
   "metadata": {},
   "outputs": [
    {
     "data": {
      "text/plain": [
       "Channel Title           0\n",
       "Channel Username        0\n",
       "ID                      0\n",
       "Message             13772\n",
       "Date                    0\n",
       "Media Path           8044\n",
       "dtype: int64"
      ]
     },
     "execution_count": 8,
     "metadata": {},
     "output_type": "execute_result"
    }
   ],
   "source": [
    "df.isnull().sum()"
   ]
  },
  {
   "cell_type": "code",
   "execution_count": 16,
   "id": "3465709b",
   "metadata": {},
   "outputs": [],
   "source": [
    "df = df.dropna(subset=['Message', 'Media Path'])"
   ]
  },
  {
   "cell_type": "code",
   "execution_count": 17,
   "id": "f8e63e60",
   "metadata": {},
   "outputs": [
    {
     "data": {
      "text/plain": [
       "Channel Title       0\n",
       "Channel Username    0\n",
       "ID                  0\n",
       "Message             0\n",
       "Date                0\n",
       "Media Path          0\n",
       "content_type        0\n",
       "dtype: int64"
      ]
     },
     "execution_count": 17,
     "metadata": {},
     "output_type": "execute_result"
    }
   ],
   "source": [
    "df.isnull().sum()"
   ]
  },
  {
   "cell_type": "code",
   "execution_count": 18,
   "id": "d6576670",
   "metadata": {},
   "outputs": [],
   "source": [
    "df['content_type'] = df.apply(label_content, axis=1)"
   ]
  },
  {
   "cell_type": "code",
   "execution_count": 19,
   "id": "89111a92",
   "metadata": {},
   "outputs": [],
   "source": [
    "df = df[df['content_type'] != 'None']"
   ]
  },
  {
   "cell_type": "code",
   "execution_count": 20,
   "id": "a5d9d5a5",
   "metadata": {},
   "outputs": [
    {
     "data": {
      "text/plain": [
       "Channel Title       0\n",
       "Channel Username    0\n",
       "ID                  0\n",
       "Message             0\n",
       "Date                0\n",
       "Media Path          0\n",
       "content_type        0\n",
       "dtype: int64"
      ]
     },
     "execution_count": 20,
     "metadata": {},
     "output_type": "execute_result"
    }
   ],
   "source": [
    "df.isnull().sum()"
   ]
  },
  {
   "cell_type": "code",
   "execution_count": 21,
   "id": "e2b7a575",
   "metadata": {},
   "outputs": [],
   "source": [
    "from preprocess import clean_text, remove_english_words, prepare_dataset"
   ]
  },
  {
   "cell_type": "code",
   "execution_count": 22,
   "id": "bdc79eab",
   "metadata": {},
   "outputs": [
    {
     "ename": "UnboundLocalError",
     "evalue": "cannot access local variable 'match' where it is not associated with a value",
     "output_type": "error",
     "traceback": [
      "\u001b[31m---------------------------------------------------------------------------\u001b[39m",
      "\u001b[31mUnboundLocalError\u001b[39m                         Traceback (most recent call last)",
      "\u001b[36mCell\u001b[39m\u001b[36m \u001b[39m\u001b[32mIn[22]\u001b[39m\u001b[32m, line 1\u001b[39m\n\u001b[32m----> \u001b[39m\u001b[32m1\u001b[39m df1 = \u001b[43mprepare_dataset\u001b[49m\u001b[43m(\u001b[49m\u001b[43mdf\u001b[49m\u001b[43m)\u001b[49m\n",
      "\u001b[36mFile \u001b[39m\u001b[32mc:\\Users\\Tegbabu\\Amharic-ecommerce-data-extractor\\scripts\\preprocess.py:228\u001b[39m, in \u001b[36mprepare_dataset\u001b[39m\u001b[34m(df)\u001b[39m\n\u001b[32m    224\u001b[39m df_processed[\u001b[33m'\u001b[39m\u001b[33mclean_message\u001b[39m\u001b[33m'\u001b[39m] = df_processed[\u001b[33m'\u001b[39m\u001b[33mMessage\u001b[39m\u001b[33m'\u001b[39m].apply(\n\u001b[32m    225\u001b[39m     clean_amharic_text)\n\u001b[32m    226\u001b[39m df_processed[\u001b[33m'\u001b[39m\u001b[33mis_amharic\u001b[39m\u001b[33m'\u001b[39m] = df_processed[\u001b[33m'\u001b[39m\u001b[33mclean_message\u001b[39m\u001b[33m'\u001b[39m].apply(\n\u001b[32m    227\u001b[39m     is_amharic_dominant)\n\u001b[32m--> \u001b[39m\u001b[32m228\u001b[39m df_processed[\u001b[33m'\u001b[39m\u001b[33mentity_hints\u001b[39m\u001b[33m'\u001b[39m] = \u001b[43mdf_processed\u001b[49m\u001b[43m[\u001b[49m\u001b[33;43m'\u001b[39;49m\u001b[33;43mclean_message\u001b[39;49m\u001b[33;43m'\u001b[39;49m\u001b[43m]\u001b[49m\u001b[43m.\u001b[49m\u001b[43mapply\u001b[49m\u001b[43m(\u001b[49m\n\u001b[32m    229\u001b[39m \u001b[43m    \u001b[49m\u001b[43mextract_entities\u001b[49m\u001b[43m)\u001b[49m\n\u001b[32m    230\u001b[39m df_processed[\u001b[33m'\u001b[39m\u001b[33mtokens\u001b[39m\u001b[33m'\u001b[39m] = df_processed[\u001b[33m'\u001b[39m\u001b[33mclean_message\u001b[39m\u001b[33m'\u001b[39m].apply(\n\u001b[32m    231\u001b[39m     tokenize_amharic)\n\u001b[32m    232\u001b[39m df_processed[\u001b[33m'\u001b[39m\u001b[33mtokens_count\u001b[39m\u001b[33m'\u001b[39m] = df_processed[\u001b[33m'\u001b[39m\u001b[33mtokens\u001b[39m\u001b[33m'\u001b[39m].apply(\u001b[38;5;28mlen\u001b[39m)\n",
      "\u001b[36mFile \u001b[39m\u001b[32mc:\\Users\\Tegbabu\\Amharic-ecommerce-data-extractor\\.amhenv\\Lib\\site-packages\\pandas\\core\\series.py:4935\u001b[39m, in \u001b[36mSeries.apply\u001b[39m\u001b[34m(self, func, convert_dtype, args, by_row, **kwargs)\u001b[39m\n\u001b[32m   4800\u001b[39m \u001b[38;5;28;01mdef\u001b[39;00m\u001b[38;5;250m \u001b[39m\u001b[34mapply\u001b[39m(\n\u001b[32m   4801\u001b[39m     \u001b[38;5;28mself\u001b[39m,\n\u001b[32m   4802\u001b[39m     func: AggFuncType,\n\u001b[32m   (...)\u001b[39m\u001b[32m   4807\u001b[39m     **kwargs,\n\u001b[32m   4808\u001b[39m ) -> DataFrame | Series:\n\u001b[32m   4809\u001b[39m \u001b[38;5;250m    \u001b[39m\u001b[33;03m\"\"\"\u001b[39;00m\n\u001b[32m   4810\u001b[39m \u001b[33;03m    Invoke function on values of Series.\u001b[39;00m\n\u001b[32m   4811\u001b[39m \n\u001b[32m   (...)\u001b[39m\u001b[32m   4926\u001b[39m \u001b[33;03m    dtype: float64\u001b[39;00m\n\u001b[32m   4927\u001b[39m \u001b[33;03m    \"\"\"\u001b[39;00m\n\u001b[32m   4928\u001b[39m     \u001b[38;5;28;01mreturn\u001b[39;00m \u001b[43mSeriesApply\u001b[49m\u001b[43m(\u001b[49m\n\u001b[32m   4929\u001b[39m \u001b[43m        \u001b[49m\u001b[38;5;28;43mself\u001b[39;49m\u001b[43m,\u001b[49m\n\u001b[32m   4930\u001b[39m \u001b[43m        \u001b[49m\u001b[43mfunc\u001b[49m\u001b[43m,\u001b[49m\n\u001b[32m   4931\u001b[39m \u001b[43m        \u001b[49m\u001b[43mconvert_dtype\u001b[49m\u001b[43m=\u001b[49m\u001b[43mconvert_dtype\u001b[49m\u001b[43m,\u001b[49m\n\u001b[32m   4932\u001b[39m \u001b[43m        \u001b[49m\u001b[43mby_row\u001b[49m\u001b[43m=\u001b[49m\u001b[43mby_row\u001b[49m\u001b[43m,\u001b[49m\n\u001b[32m   4933\u001b[39m \u001b[43m        \u001b[49m\u001b[43margs\u001b[49m\u001b[43m=\u001b[49m\u001b[43margs\u001b[49m\u001b[43m,\u001b[49m\n\u001b[32m   4934\u001b[39m \u001b[43m        \u001b[49m\u001b[43mkwargs\u001b[49m\u001b[43m=\u001b[49m\u001b[43mkwargs\u001b[49m\u001b[43m,\u001b[49m\n\u001b[32m-> \u001b[39m\u001b[32m4935\u001b[39m \u001b[43m    \u001b[49m\u001b[43m)\u001b[49m\u001b[43m.\u001b[49m\u001b[43mapply\u001b[49m\u001b[43m(\u001b[49m\u001b[43m)\u001b[49m\n",
      "\u001b[36mFile \u001b[39m\u001b[32mc:\\Users\\Tegbabu\\Amharic-ecommerce-data-extractor\\.amhenv\\Lib\\site-packages\\pandas\\core\\apply.py:1422\u001b[39m, in \u001b[36mSeriesApply.apply\u001b[39m\u001b[34m(self)\u001b[39m\n\u001b[32m   1419\u001b[39m     \u001b[38;5;28;01mreturn\u001b[39;00m \u001b[38;5;28mself\u001b[39m.apply_compat()\n\u001b[32m   1421\u001b[39m \u001b[38;5;66;03m# self.func is Callable\u001b[39;00m\n\u001b[32m-> \u001b[39m\u001b[32m1422\u001b[39m \u001b[38;5;28;01mreturn\u001b[39;00m \u001b[38;5;28;43mself\u001b[39;49m\u001b[43m.\u001b[49m\u001b[43mapply_standard\u001b[49m\u001b[43m(\u001b[49m\u001b[43m)\u001b[49m\n",
      "\u001b[36mFile \u001b[39m\u001b[32mc:\\Users\\Tegbabu\\Amharic-ecommerce-data-extractor\\.amhenv\\Lib\\site-packages\\pandas\\core\\apply.py:1502\u001b[39m, in \u001b[36mSeriesApply.apply_standard\u001b[39m\u001b[34m(self)\u001b[39m\n\u001b[32m   1496\u001b[39m \u001b[38;5;66;03m# row-wise access\u001b[39;00m\n\u001b[32m   1497\u001b[39m \u001b[38;5;66;03m# apply doesn't have a `na_action` keyword and for backward compat reasons\u001b[39;00m\n\u001b[32m   1498\u001b[39m \u001b[38;5;66;03m# we need to give `na_action=\"ignore\"` for categorical data.\u001b[39;00m\n\u001b[32m   1499\u001b[39m \u001b[38;5;66;03m# TODO: remove the `na_action=\"ignore\"` when that default has been changed in\u001b[39;00m\n\u001b[32m   1500\u001b[39m \u001b[38;5;66;03m#  Categorical (GH51645).\u001b[39;00m\n\u001b[32m   1501\u001b[39m action = \u001b[33m\"\u001b[39m\u001b[33mignore\u001b[39m\u001b[33m\"\u001b[39m \u001b[38;5;28;01mif\u001b[39;00m \u001b[38;5;28misinstance\u001b[39m(obj.dtype, CategoricalDtype) \u001b[38;5;28;01melse\u001b[39;00m \u001b[38;5;28;01mNone\u001b[39;00m\n\u001b[32m-> \u001b[39m\u001b[32m1502\u001b[39m mapped = \u001b[43mobj\u001b[49m\u001b[43m.\u001b[49m\u001b[43m_map_values\u001b[49m\u001b[43m(\u001b[49m\n\u001b[32m   1503\u001b[39m \u001b[43m    \u001b[49m\u001b[43mmapper\u001b[49m\u001b[43m=\u001b[49m\u001b[43mcurried\u001b[49m\u001b[43m,\u001b[49m\u001b[43m \u001b[49m\u001b[43mna_action\u001b[49m\u001b[43m=\u001b[49m\u001b[43maction\u001b[49m\u001b[43m,\u001b[49m\u001b[43m \u001b[49m\u001b[43mconvert\u001b[49m\u001b[43m=\u001b[49m\u001b[38;5;28;43mself\u001b[39;49m\u001b[43m.\u001b[49m\u001b[43mconvert_dtype\u001b[49m\n\u001b[32m   1504\u001b[39m \u001b[43m\u001b[49m\u001b[43m)\u001b[49m\n\u001b[32m   1506\u001b[39m \u001b[38;5;28;01mif\u001b[39;00m \u001b[38;5;28mlen\u001b[39m(mapped) \u001b[38;5;129;01mand\u001b[39;00m \u001b[38;5;28misinstance\u001b[39m(mapped[\u001b[32m0\u001b[39m], ABCSeries):\n\u001b[32m   1507\u001b[39m     \u001b[38;5;66;03m# GH#43986 Need to do list(mapped) in order to get treated as nested\u001b[39;00m\n\u001b[32m   1508\u001b[39m     \u001b[38;5;66;03m#  See also GH#25959 regarding EA support\u001b[39;00m\n\u001b[32m   1509\u001b[39m     \u001b[38;5;28;01mreturn\u001b[39;00m obj._constructor_expanddim(\u001b[38;5;28mlist\u001b[39m(mapped), index=obj.index)\n",
      "\u001b[36mFile \u001b[39m\u001b[32mc:\\Users\\Tegbabu\\Amharic-ecommerce-data-extractor\\.amhenv\\Lib\\site-packages\\pandas\\core\\base.py:925\u001b[39m, in \u001b[36mIndexOpsMixin._map_values\u001b[39m\u001b[34m(self, mapper, na_action, convert)\u001b[39m\n\u001b[32m    922\u001b[39m \u001b[38;5;28;01mif\u001b[39;00m \u001b[38;5;28misinstance\u001b[39m(arr, ExtensionArray):\n\u001b[32m    923\u001b[39m     \u001b[38;5;28;01mreturn\u001b[39;00m arr.map(mapper, na_action=na_action)\n\u001b[32m--> \u001b[39m\u001b[32m925\u001b[39m \u001b[38;5;28;01mreturn\u001b[39;00m \u001b[43malgorithms\u001b[49m\u001b[43m.\u001b[49m\u001b[43mmap_array\u001b[49m\u001b[43m(\u001b[49m\u001b[43marr\u001b[49m\u001b[43m,\u001b[49m\u001b[43m \u001b[49m\u001b[43mmapper\u001b[49m\u001b[43m,\u001b[49m\u001b[43m \u001b[49m\u001b[43mna_action\u001b[49m\u001b[43m=\u001b[49m\u001b[43mna_action\u001b[49m\u001b[43m,\u001b[49m\u001b[43m \u001b[49m\u001b[43mconvert\u001b[49m\u001b[43m=\u001b[49m\u001b[43mconvert\u001b[49m\u001b[43m)\u001b[49m\n",
      "\u001b[36mFile \u001b[39m\u001b[32mc:\\Users\\Tegbabu\\Amharic-ecommerce-data-extractor\\.amhenv\\Lib\\site-packages\\pandas\\core\\algorithms.py:1743\u001b[39m, in \u001b[36mmap_array\u001b[39m\u001b[34m(arr, mapper, na_action, convert)\u001b[39m\n\u001b[32m   1741\u001b[39m values = arr.astype(\u001b[38;5;28mobject\u001b[39m, copy=\u001b[38;5;28;01mFalse\u001b[39;00m)\n\u001b[32m   1742\u001b[39m \u001b[38;5;28;01mif\u001b[39;00m na_action \u001b[38;5;129;01mis\u001b[39;00m \u001b[38;5;28;01mNone\u001b[39;00m:\n\u001b[32m-> \u001b[39m\u001b[32m1743\u001b[39m     \u001b[38;5;28;01mreturn\u001b[39;00m \u001b[43mlib\u001b[49m\u001b[43m.\u001b[49m\u001b[43mmap_infer\u001b[49m\u001b[43m(\u001b[49m\u001b[43mvalues\u001b[49m\u001b[43m,\u001b[49m\u001b[43m \u001b[49m\u001b[43mmapper\u001b[49m\u001b[43m,\u001b[49m\u001b[43m \u001b[49m\u001b[43mconvert\u001b[49m\u001b[43m=\u001b[49m\u001b[43mconvert\u001b[49m\u001b[43m)\u001b[49m\n\u001b[32m   1744\u001b[39m \u001b[38;5;28;01melse\u001b[39;00m:\n\u001b[32m   1745\u001b[39m     \u001b[38;5;28;01mreturn\u001b[39;00m lib.map_infer_mask(\n\u001b[32m   1746\u001b[39m         values, mapper, mask=isna(values).view(np.uint8), convert=convert\n\u001b[32m   1747\u001b[39m     )\n",
      "\u001b[36mFile \u001b[39m\u001b[32mpandas/_libs/lib.pyx:2999\u001b[39m, in \u001b[36mpandas._libs.lib.map_infer\u001b[39m\u001b[34m()\u001b[39m\n",
      "\u001b[36mFile \u001b[39m\u001b[32mc:\\Users\\Tegbabu\\Amharic-ecommerce-data-extractor\\scripts\\preprocess.py:204\u001b[39m, in \u001b[36mextract_entities\u001b[39m\u001b[34m(text)\u001b[39m\n\u001b[32m    202\u001b[39m \u001b[38;5;28;01mfor\u001b[39;00m pattern \u001b[38;5;129;01min\u001b[39;00m price_patterns:\n\u001b[32m    203\u001b[39m     matches = re.finditer(pattern, text, re.IGNORECASE)\n\u001b[32m--> \u001b[39m\u001b[32m204\u001b[39m     \u001b[38;5;28;01mif\u001b[39;00m \u001b[43mmatch\u001b[49m:\n\u001b[32m    205\u001b[39m         \u001b[38;5;28;01mfor\u001b[39;00m match \u001b[38;5;129;01min\u001b[39;00m matches:\n\u001b[32m    206\u001b[39m             entities[\u001b[33m'\u001b[39m\u001b[33mprice_hints\u001b[39m\u001b[33m'\u001b[39m].append(match.group())\n",
      "\u001b[31mUnboundLocalError\u001b[39m: cannot access local variable 'match' where it is not associated with a value"
     ]
    }
   ],
   "source": [
    "df1 = prepare_dataset(df)"
   ]
  },
  {
   "cell_type": "code",
   "execution_count": 14,
   "id": "ffcd085f",
   "metadata": {},
   "outputs": [],
   "source": [
    "df['Message'] = df['Message'].apply(clean_text)"
   ]
  },
  {
   "cell_type": "code",
   "execution_count": 15,
   "id": "fa3b4d55",
   "metadata": {},
   "outputs": [],
   "source": [
    "df['Date'] = pd.to_datetime(df['Date'], errors='coerce')"
   ]
  },
  {
   "cell_type": "code",
   "execution_count": 16,
   "id": "67b0e346",
   "metadata": {},
   "outputs": [
    {
     "data": {
      "text/plain": [
       "Channel Title           0\n",
       "Channel Username        0\n",
       "ID                      0\n",
       "Message             12724\n",
       "Date                    0\n",
       "Media Path           6996\n",
       "content_type            0\n",
       "dtype: int64"
      ]
     },
     "execution_count": 16,
     "metadata": {},
     "output_type": "execute_result"
    }
   ],
   "source": [
    "df.isnull().sum()"
   ]
  },
  {
   "cell_type": "code",
   "execution_count": 17,
   "id": "f703939a",
   "metadata": {},
   "outputs": [
    {
     "name": "stdout",
     "output_type": "stream",
     "text": [
      "<class 'pandas.core.frame.DataFrame'>\n",
      "Index: 36330 entries, 0 to 37376\n",
      "Data columns (total 7 columns):\n",
      " #   Column            Non-Null Count  Dtype              \n",
      "---  ------            --------------  -----              \n",
      " 0   Channel Title     36330 non-null  object             \n",
      " 1   Channel Username  36330 non-null  object             \n",
      " 2   ID                36330 non-null  int64              \n",
      " 3   Message           23606 non-null  object             \n",
      " 4   Date              36330 non-null  datetime64[ns, UTC]\n",
      " 5   Media Path        29334 non-null  object             \n",
      " 6   content_type      36330 non-null  object             \n",
      "dtypes: datetime64[ns, UTC](1), int64(1), object(5)\n",
      "memory usage: 2.2+ MB\n"
     ]
    }
   ],
   "source": [
    "df.info()"
   ]
  },
  {
   "cell_type": "code",
   "execution_count": 18,
   "id": "f9a7ba7a",
   "metadata": {},
   "outputs": [],
   "source": [
    "df['Message_cleaned_amh'] = df['Message'].apply(remove_english_words)"
   ]
  },
  {
   "cell_type": "code",
   "execution_count": 19,
   "id": "10bdb56a",
   "metadata": {},
   "outputs": [
    {
     "data": {
      "text/plain": [
       "0        💥💥...................................💥💥 📌 👍በኤሌ...\n",
       "1        💥💥...................................💥💥 📌 👍በፈለ...\n",
       "2                                                      NaN\n",
       "3                                                      NaN\n",
       "4                                                      NaN\n",
       "                               ...                        \n",
       "37372    🎯 ለኪችንዎ ውበት እጅግ ተመራጭ 🔰ውሀ የማያስገባ 🔰ቅባት ዘይት ነገሮች ...\n",
       "37373    🎯 3in1 & 👉 ከርል ለመስራት 👉 ለማለስለስ 👉 እንዲሁም ለማድረቅ የሚ...\n",
       "37374    ✅ - X5 📢📢📢 ታላቅ ቅናሽ 🎉🎉🎉 ⚡️ ⚡️ 🚩የሰዉነትዎ ውፍረት አሳስቧ...\n",
       "37375    ለጤናችን- & 📍 SPO2 () 🎯 & 🎯 . 🎯 , 🎯 - 🎯 🎯 💦 ዋጋ፦ 💰...\n",
       "37376    📲 0909522840 🎯 ለአጠቃቀም ምቹ 🎯 በሰዉነታችን ያለውን የኦክስጅን...\n",
       "Name: Message_cleaned_amh, Length: 36330, dtype: object"
      ]
     },
     "execution_count": 19,
     "metadata": {},
     "output_type": "execute_result"
    }
   ],
   "source": [
    "df['Message_cleaned_amh']"
   ]
  },
  {
   "cell_type": "code",
   "execution_count": 20,
   "id": "3d128f98",
   "metadata": {},
   "outputs": [],
   "source": [
    "from preprocess import remove_amharic_words"
   ]
  },
  {
   "cell_type": "code",
   "execution_count": 21,
   "id": "2a7d37ad",
   "metadata": {},
   "outputs": [],
   "source": [
    "df['Message_cleaned_eng'] = df['Message'].apply(remove_amharic_words)"
   ]
  },
  {
   "cell_type": "code",
   "execution_count": 22,
   "id": "a7057d01",
   "metadata": {},
   "outputs": [
    {
     "data": {
      "text/plain": [
       "0        💥💥...................................💥💥 📌Imita...\n",
       "1        💥💥...................................💥💥 📌 Baby...\n",
       "2                                                      nan\n",
       "3                                                      nan\n",
       "4                                                      nan\n",
       "                               ...                        \n",
       "37372    🎯 Kitchen Sticker 🔰 🔰 🔰 ✅ ✅ 👉 Size: 60ሴ.×3ሜ ፦ ...\n",
       "37373    🎯 3in1 One Step Hair Dryer & Styler 👉 👉 👉 🔰 ፦ ...\n",
       "37374    ✅ Home GYM - X5 slimming vibrator 📢📢📢 🎉🎉🎉 ⚡️Sl...\n",
       "37375    -Health & Personal Care 📍FingerTip Pulse Oxime...\n",
       "37376                                 📲 0909522840 🎯 🎯 🚚 🚚\n",
       "Name: Message_cleaned_eng, Length: 36330, dtype: object"
      ]
     },
     "execution_count": 22,
     "metadata": {},
     "output_type": "execute_result"
    }
   ],
   "source": [
    "df['Message_cleaned_eng']"
   ]
  },
  {
   "cell_type": "code",
   "execution_count": 23,
   "id": "9af840f7",
   "metadata": {},
   "outputs": [
    {
     "data": {
      "text/plain": [
       "Channel Title              0\n",
       "Channel Username           0\n",
       "ID                         0\n",
       "Message                12724\n",
       "Date                       0\n",
       "Media Path              6996\n",
       "content_type               0\n",
       "Message_cleaned_amh    12724\n",
       "Message_cleaned_eng        0\n",
       "dtype: int64"
      ]
     },
     "execution_count": 23,
     "metadata": {},
     "output_type": "execute_result"
    }
   ],
   "source": [
    "df.isnull().sum()"
   ]
  },
  {
   "cell_type": "code",
   "execution_count": 24,
   "id": "545119c1",
   "metadata": {},
   "outputs": [],
   "source": [
    "df['Message'] = df['Message'].fillna('[መልዕክት የለም]')\n",
    "df['Media Path'] = df['Media Path'].fillna('[ምስል የለም]')"
   ]
  },
  {
   "cell_type": "code",
   "execution_count": 25,
   "id": "8b41b5b5",
   "metadata": {},
   "outputs": [
    {
     "data": {
      "text/plain": [
       "Channel Title              0\n",
       "Channel Username           0\n",
       "ID                         0\n",
       "Message                    0\n",
       "Date                       0\n",
       "Media Path                 0\n",
       "content_type               0\n",
       "Message_cleaned_amh    12724\n",
       "Message_cleaned_eng        0\n",
       "dtype: int64"
      ]
     },
     "execution_count": 25,
     "metadata": {},
     "output_type": "execute_result"
    }
   ],
   "source": [
    "df.isnull().sum()"
   ]
  },
  {
   "cell_type": "code",
   "execution_count": 26,
   "id": "dce4a5d8",
   "metadata": {},
   "outputs": [],
   "source": [
    "df['Message_cleaned_amh'] = df['Message_cleaned_amh'].fillna('[መልዕክት የለም]')"
   ]
  },
  {
   "cell_type": "markdown",
   "id": "b8813a85",
   "metadata": {},
   "source": [
    "##### Text cleaning"
   ]
  },
  {
   "cell_type": "code",
   "execution_count": 27,
   "id": "e921829a",
   "metadata": {},
   "outputs": [],
   "source": [
    "from preprocess import clean_message, extract_sender_and_msg"
   ]
  },
  {
   "cell_type": "code",
   "execution_count": 28,
   "id": "34907f97",
   "metadata": {},
   "outputs": [],
   "source": [
    "df['Message_cleaned_amh'] = df['Message_cleaned_amh'].apply(clean_message)"
   ]
  },
  {
   "cell_type": "code",
   "execution_count": 29,
   "id": "ff0dc7f5",
   "metadata": {},
   "outputs": [],
   "source": [
    "\n",
    "df[['sender', 'cleaned_message']] = df['Message_cleaned_amh'].apply(extract_sender_and_msg)"
   ]
  },
  {
   "cell_type": "code",
   "execution_count": 30,
   "id": "0f1b534d",
   "metadata": {},
   "outputs": [
    {
     "data": {
      "text/html": [
       "<div>\n",
       "<style scoped>\n",
       "    .dataframe tbody tr th:only-of-type {\n",
       "        vertical-align: middle;\n",
       "    }\n",
       "\n",
       "    .dataframe tbody tr th {\n",
       "        vertical-align: top;\n",
       "    }\n",
       "\n",
       "    .dataframe thead th {\n",
       "        text-align: right;\n",
       "    }\n",
       "</style>\n",
       "<table border=\"1\" class=\"dataframe\">\n",
       "  <thead>\n",
       "    <tr style=\"text-align: right;\">\n",
       "      <th></th>\n",
       "      <th>Channel Title</th>\n",
       "      <th>Channel Username</th>\n",
       "      <th>ID</th>\n",
       "      <th>Message</th>\n",
       "      <th>Date</th>\n",
       "      <th>Media Path</th>\n",
       "      <th>content_type</th>\n",
       "      <th>Message_cleaned_amh</th>\n",
       "      <th>Message_cleaned_eng</th>\n",
       "      <th>sender</th>\n",
       "      <th>cleaned_message</th>\n",
       "    </tr>\n",
       "  </thead>\n",
       "  <tbody>\n",
       "    <tr>\n",
       "      <th>0</th>\n",
       "      <td>Zemen Express®</td>\n",
       "      <td>@ZemenExpress</td>\n",
       "      <td>6982</td>\n",
       "      <td>💥💥...................................💥💥\\n\\n📌Im...</td>\n",
       "      <td>2025-06-18 06:01:10+00:00</td>\n",
       "      <td>[ምስል የለም]</td>\n",
       "      <td>Text Only</td>\n",
       "      <td>በኤሌክትሪክ:የሚሰራ ለቤት መልካም መዓዛን የሚሰጥ ዋጋ፦ 1400 ብር ውስ...</td>\n",
       "      <td>💥💥...................................💥💥 📌Imita...</td>\n",
       "      <td>None</td>\n",
       "      <td>በኤሌክትሪክ:የሚሰራ ለቤት መልካም መዓዛን የሚሰጥ ዋጋ፦ 1400 ብር ውስ...</td>\n",
       "    </tr>\n",
       "    <tr>\n",
       "      <th>1</th>\n",
       "      <td>Zemen Express®</td>\n",
       "      <td>@ZemenExpress</td>\n",
       "      <td>6981</td>\n",
       "      <td>💥💥...................................💥💥\\n\\n📌 B...</td>\n",
       "      <td>2025-06-16 12:21:00+00:00</td>\n",
       "      <td>[ምስል የለም]</td>\n",
       "      <td>Text Only</td>\n",
       "      <td>በፈለጉት አቅጣጫ ልጅዎን በምቾት ማዘል ያስችልዎታል ዋጋ፦ 2400 ብር ው...</td>\n",
       "      <td>💥💥...................................💥💥 📌 Baby...</td>\n",
       "      <td>None</td>\n",
       "      <td>በፈለጉት አቅጣጫ ልጅዎን በምቾት ማዘል ያስችልዎታል ዋጋ፦ 2400 ብር ው...</td>\n",
       "    </tr>\n",
       "    <tr>\n",
       "      <th>2</th>\n",
       "      <td>Zemen Express®</td>\n",
       "      <td>@ZemenExpress</td>\n",
       "      <td>6980</td>\n",
       "      <td>[መልዕክት የለም]</td>\n",
       "      <td>2025-06-16 05:11:57+00:00</td>\n",
       "      <td>data\\photos\\@ZemenExpress_6980.jpg</td>\n",
       "      <td>Media Only</td>\n",
       "      <td>መልዕክት የለም</td>\n",
       "      <td>nan</td>\n",
       "      <td>None</td>\n",
       "      <td>መልዕክት የለም</td>\n",
       "    </tr>\n",
       "    <tr>\n",
       "      <th>3</th>\n",
       "      <td>Zemen Express®</td>\n",
       "      <td>@ZemenExpress</td>\n",
       "      <td>6979</td>\n",
       "      <td>[መልዕክት የለም]</td>\n",
       "      <td>2025-06-16 05:11:57+00:00</td>\n",
       "      <td>data\\photos\\@ZemenExpress_6979.jpg</td>\n",
       "      <td>Media Only</td>\n",
       "      <td>መልዕክት የለም</td>\n",
       "      <td>nan</td>\n",
       "      <td>None</td>\n",
       "      <td>መልዕክት የለም</td>\n",
       "    </tr>\n",
       "    <tr>\n",
       "      <th>4</th>\n",
       "      <td>Zemen Express®</td>\n",
       "      <td>@ZemenExpress</td>\n",
       "      <td>6978</td>\n",
       "      <td>[መልዕክት የለም]</td>\n",
       "      <td>2025-06-16 05:11:57+00:00</td>\n",
       "      <td>data\\photos\\@ZemenExpress_6978.jpg</td>\n",
       "      <td>Media Only</td>\n",
       "      <td>መልዕክት የለም</td>\n",
       "      <td>nan</td>\n",
       "      <td>None</td>\n",
       "      <td>መልዕክት የለም</td>\n",
       "    </tr>\n",
       "  </tbody>\n",
       "</table>\n",
       "</div>"
      ],
      "text/plain": [
       "    Channel Title Channel Username    ID  \\\n",
       "0  Zemen Express®    @ZemenExpress  6982   \n",
       "1  Zemen Express®    @ZemenExpress  6981   \n",
       "2  Zemen Express®    @ZemenExpress  6980   \n",
       "3  Zemen Express®    @ZemenExpress  6979   \n",
       "4  Zemen Express®    @ZemenExpress  6978   \n",
       "\n",
       "                                             Message  \\\n",
       "0  💥💥...................................💥💥\\n\\n📌Im...   \n",
       "1  💥💥...................................💥💥\\n\\n📌 B...   \n",
       "2                                        [መልዕክት የለም]   \n",
       "3                                        [መልዕክት የለም]   \n",
       "4                                        [መልዕክት የለም]   \n",
       "\n",
       "                       Date                          Media Path content_type  \\\n",
       "0 2025-06-18 06:01:10+00:00                           [ምስል የለም]    Text Only   \n",
       "1 2025-06-16 12:21:00+00:00                           [ምስል የለም]    Text Only   \n",
       "2 2025-06-16 05:11:57+00:00  data\\photos\\@ZemenExpress_6980.jpg   Media Only   \n",
       "3 2025-06-16 05:11:57+00:00  data\\photos\\@ZemenExpress_6979.jpg   Media Only   \n",
       "4 2025-06-16 05:11:57+00:00  data\\photos\\@ZemenExpress_6978.jpg   Media Only   \n",
       "\n",
       "                                 Message_cleaned_amh  \\\n",
       "0  በኤሌክትሪክ:የሚሰራ ለቤት መልካም መዓዛን የሚሰጥ ዋጋ፦ 1400 ብር ውስ...   \n",
       "1  በፈለጉት አቅጣጫ ልጅዎን በምቾት ማዘል ያስችልዎታል ዋጋ፦ 2400 ብር ው...   \n",
       "2                                          መልዕክት የለም   \n",
       "3                                          መልዕክት የለም   \n",
       "4                                          መልዕክት የለም   \n",
       "\n",
       "                                 Message_cleaned_eng sender  \\\n",
       "0  💥💥...................................💥💥 📌Imita...   None   \n",
       "1  💥💥...................................💥💥 📌 Baby...   None   \n",
       "2                                                nan   None   \n",
       "3                                                nan   None   \n",
       "4                                                nan   None   \n",
       "\n",
       "                                     cleaned_message  \n",
       "0  በኤሌክትሪክ:የሚሰራ ለቤት መልካም መዓዛን የሚሰጥ ዋጋ፦ 1400 ብር ውስ...  \n",
       "1  በፈለጉት አቅጣጫ ልጅዎን በምቾት ማዘል ያስችልዎታል ዋጋ፦ 2400 ብር ው...  \n",
       "2                                          መልዕክት የለም  \n",
       "3                                          መልዕክት የለም  \n",
       "4                                          መልዕክት የለም  "
      ]
     },
     "execution_count": 30,
     "metadata": {},
     "output_type": "execute_result"
    }
   ],
   "source": [
    "df.head()"
   ]
  },
  {
   "cell_type": "code",
   "execution_count": 31,
   "id": "1dec5d54",
   "metadata": {},
   "outputs": [],
   "source": [
    "df.to_csv('../data/all_telegram_data.csv')"
   ]
  },
  {
   "cell_type": "code",
   "execution_count": 32,
   "id": "622398dc",
   "metadata": {},
   "outputs": [],
   "source": [
    "df_structured = df[[\"Channel Title\", \"Channel Username\", \"ID\", \"sender\", \"Date\", \"cleaned_message\", \"Media Path\"]].copy()\n",
    "df_structured.rename(columns={'cleaned_message': 'Message'}, inplace=True)"
   ]
  },
  {
   "cell_type": "code",
   "execution_count": 33,
   "id": "c12b05ed",
   "metadata": {},
   "outputs": [],
   "source": [
    "df_structured.rename(columns={'ID':'Message ID', 'sender':'Sender','Media Path': 'Media_Path'}, inplace=True)"
   ]
  },
  {
   "cell_type": "code",
   "execution_count": 39,
   "id": "3e516757",
   "metadata": {},
   "outputs": [
    {
     "data": {
      "text/html": [
       "<div>\n",
       "<style scoped>\n",
       "    .dataframe tbody tr th:only-of-type {\n",
       "        vertical-align: middle;\n",
       "    }\n",
       "\n",
       "    .dataframe tbody tr th {\n",
       "        vertical-align: top;\n",
       "    }\n",
       "\n",
       "    .dataframe thead th {\n",
       "        text-align: right;\n",
       "    }\n",
       "</style>\n",
       "<table border=\"1\" class=\"dataframe\">\n",
       "  <thead>\n",
       "    <tr style=\"text-align: right;\">\n",
       "      <th></th>\n",
       "      <th>Channel Title</th>\n",
       "      <th>Channel Username</th>\n",
       "      <th>Message ID</th>\n",
       "      <th>Sender</th>\n",
       "      <th>Date</th>\n",
       "      <th>Message</th>\n",
       "      <th>Media_Path</th>\n",
       "    </tr>\n",
       "  </thead>\n",
       "  <tbody>\n",
       "    <tr>\n",
       "      <th>30346</th>\n",
       "      <td>Sheger online-store</td>\n",
       "      <td>@Shageronlinestore</td>\n",
       "      <td>7389</td>\n",
       "      <td>None</td>\n",
       "      <td>2025-06-19 12:31:30+00:00</td>\n",
       "      <td>መልዕክት የለም</td>\n",
       "      <td>data\\photos\\@Shageronlinestore_7389.jpg</td>\n",
       "    </tr>\n",
       "    <tr>\n",
       "      <th>30347</th>\n",
       "      <td>Sheger online-store</td>\n",
       "      <td>@Shageronlinestore</td>\n",
       "      <td>7388</td>\n",
       "      <td>None</td>\n",
       "      <td>2025-06-19 12:31:30+00:00</td>\n",
       "      <td>መልዕክት የለም</td>\n",
       "      <td>data\\photos\\@Shageronlinestore_7388.jpg</td>\n",
       "    </tr>\n",
       "    <tr>\n",
       "      <th>30348</th>\n",
       "      <td>Sheger online-store</td>\n",
       "      <td>@Shageronlinestore</td>\n",
       "      <td>7387</td>\n",
       "      <td>None</td>\n",
       "      <td>2025-06-19 12:31:30+00:00</td>\n",
       "      <td>መልዕክት የለም</td>\n",
       "      <td>data\\photos\\@Shageronlinestore_7387.jpg</td>\n",
       "    </tr>\n",
       "    <tr>\n",
       "      <th>30349</th>\n",
       "      <td>Sheger online-store</td>\n",
       "      <td>@Shageronlinestore</td>\n",
       "      <td>7386</td>\n",
       "      <td>None</td>\n",
       "      <td>2025-06-19 12:31:30+00:00</td>\n",
       "      <td>መልዕክት የለም</td>\n",
       "      <td>data\\photos\\@Shageronlinestore_7386.jpg</td>\n",
       "    </tr>\n",
       "    <tr>\n",
       "      <th>30350</th>\n",
       "      <td>Sheger online-store</td>\n",
       "      <td>@Shageronlinestore</td>\n",
       "      <td>7385</td>\n",
       "      <td>None</td>\n",
       "      <td>2025-06-19 12:31:30+00:00</td>\n",
       "      <td>መልዕክት የለም</td>\n",
       "      <td>data\\photos\\@Shageronlinestore_7385.jpg</td>\n",
       "    </tr>\n",
       "    <tr>\n",
       "      <th>...</th>\n",
       "      <td>...</td>\n",
       "      <td>...</td>\n",
       "      <td>...</td>\n",
       "      <td>...</td>\n",
       "      <td>...</td>\n",
       "      <td>...</td>\n",
       "      <td>...</td>\n",
       "    </tr>\n",
       "    <tr>\n",
       "      <th>37372</th>\n",
       "      <td>Sheger online-store</td>\n",
       "      <td>@Shageronlinestore</td>\n",
       "      <td>12</td>\n",
       "      <td>None</td>\n",
       "      <td>2021-04-27 05:58:59+00:00</td>\n",
       "      <td>ለኪችንዎ ውበት እጅግ ተመራጭ ውሀ የማያስገባ ቅባት ዘይት ነገሮች የማያበ...</td>\n",
       "      <td>data\\photos\\@Shageronlinestore_12.jpg</td>\n",
       "    </tr>\n",
       "    <tr>\n",
       "      <th>37373</th>\n",
       "      <td>Sheger online-store</td>\n",
       "      <td>@Shageronlinestore</td>\n",
       "      <td>10</td>\n",
       "      <td>None</td>\n",
       "      <td>2021-04-27 05:57:12+00:00</td>\n",
       "      <td>3in1 ከርል ለመስራት ለማለስለስ እንዲሁም ለማድረቅ የሚያገለግል ለኢትዮ...</td>\n",
       "      <td>data\\photos\\@Shageronlinestore_10.jpg</td>\n",
       "    </tr>\n",
       "    <tr>\n",
       "      <th>37374</th>\n",
       "      <td>Sheger online-store</td>\n",
       "      <td>@Shageronlinestore</td>\n",
       "      <td>9</td>\n",
       "      <td>None</td>\n",
       "      <td>2021-04-27 05:45:57+00:00</td>\n",
       "      <td>X5 ታላቅ ቅናሽ የሰዉነትዎ ውፍረት አሳስቧታል ሙሉ በሙሉ ቦርጭን በአጭር...</td>\n",
       "      <td>data\\photos\\@Shageronlinestore_9.jpg</td>\n",
       "    </tr>\n",
       "    <tr>\n",
       "      <th>37375</th>\n",
       "      <td>Sheger online-store</td>\n",
       "      <td>@Shageronlinestore</td>\n",
       "      <td>4</td>\n",
       "      <td>None</td>\n",
       "      <td>2021-04-12 08:36:40+00:00</td>\n",
       "      <td>ለጤናችን SPO2 ዋጋ፦ 900 ብር ያሉበት ድረስ በነፃ እናደርሳለን 090...</td>\n",
       "      <td>data\\photos\\@Shageronlinestore_4.jpg</td>\n",
       "    </tr>\n",
       "    <tr>\n",
       "      <th>37376</th>\n",
       "      <td>Sheger online-store</td>\n",
       "      <td>@Shageronlinestore</td>\n",
       "      <td>3</td>\n",
       "      <td>None</td>\n",
       "      <td>2021-04-12 08:35:47+00:00</td>\n",
       "      <td>0909522840 ለአጠቃቀም ምቹ በሰዉነታችን ያለውን የኦክስጅን እና የል...</td>\n",
       "      <td>data\\photos\\@Shageronlinestore_3.jpg</td>\n",
       "    </tr>\n",
       "  </tbody>\n",
       "</table>\n",
       "<p>7006 rows × 7 columns</p>\n",
       "</div>"
      ],
      "text/plain": [
       "             Channel Title    Channel Username  Message ID Sender  \\\n",
       "30346  Sheger online-store  @Shageronlinestore        7389   None   \n",
       "30347  Sheger online-store  @Shageronlinestore        7388   None   \n",
       "30348  Sheger online-store  @Shageronlinestore        7387   None   \n",
       "30349  Sheger online-store  @Shageronlinestore        7386   None   \n",
       "30350  Sheger online-store  @Shageronlinestore        7385   None   \n",
       "...                    ...                 ...         ...    ...   \n",
       "37372  Sheger online-store  @Shageronlinestore          12   None   \n",
       "37373  Sheger online-store  @Shageronlinestore          10   None   \n",
       "37374  Sheger online-store  @Shageronlinestore           9   None   \n",
       "37375  Sheger online-store  @Shageronlinestore           4   None   \n",
       "37376  Sheger online-store  @Shageronlinestore           3   None   \n",
       "\n",
       "                           Date  \\\n",
       "30346 2025-06-19 12:31:30+00:00   \n",
       "30347 2025-06-19 12:31:30+00:00   \n",
       "30348 2025-06-19 12:31:30+00:00   \n",
       "30349 2025-06-19 12:31:30+00:00   \n",
       "30350 2025-06-19 12:31:30+00:00   \n",
       "...                         ...   \n",
       "37372 2021-04-27 05:58:59+00:00   \n",
       "37373 2021-04-27 05:57:12+00:00   \n",
       "37374 2021-04-27 05:45:57+00:00   \n",
       "37375 2021-04-12 08:36:40+00:00   \n",
       "37376 2021-04-12 08:35:47+00:00   \n",
       "\n",
       "                                                 Message  \\\n",
       "30346                                          መልዕክት የለም   \n",
       "30347                                          መልዕክት የለም   \n",
       "30348                                          መልዕክት የለም   \n",
       "30349                                          መልዕክት የለም   \n",
       "30350                                          መልዕክት የለም   \n",
       "...                                                  ...   \n",
       "37372  ለኪችንዎ ውበት እጅግ ተመራጭ ውሀ የማያስገባ ቅባት ዘይት ነገሮች የማያበ...   \n",
       "37373  3in1 ከርል ለመስራት ለማለስለስ እንዲሁም ለማድረቅ የሚያገለግል ለኢትዮ...   \n",
       "37374  X5 ታላቅ ቅናሽ የሰዉነትዎ ውፍረት አሳስቧታል ሙሉ በሙሉ ቦርጭን በአጭር...   \n",
       "37375  ለጤናችን SPO2 ዋጋ፦ 900 ብር ያሉበት ድረስ በነፃ እናደርሳለን 090...   \n",
       "37376  0909522840 ለአጠቃቀም ምቹ በሰዉነታችን ያለውን የኦክስጅን እና የል...   \n",
       "\n",
       "                                    Media_Path  \n",
       "30346  data\\photos\\@Shageronlinestore_7389.jpg  \n",
       "30347  data\\photos\\@Shageronlinestore_7388.jpg  \n",
       "30348  data\\photos\\@Shageronlinestore_7387.jpg  \n",
       "30349  data\\photos\\@Shageronlinestore_7386.jpg  \n",
       "30350  data\\photos\\@Shageronlinestore_7385.jpg  \n",
       "...                                        ...  \n",
       "37372    data\\photos\\@Shageronlinestore_12.jpg  \n",
       "37373    data\\photos\\@Shageronlinestore_10.jpg  \n",
       "37374     data\\photos\\@Shageronlinestore_9.jpg  \n",
       "37375     data\\photos\\@Shageronlinestore_4.jpg  \n",
       "37376     data\\photos\\@Shageronlinestore_3.jpg  \n",
       "\n",
       "[7006 rows x 7 columns]"
      ]
     },
     "execution_count": 39,
     "metadata": {},
     "output_type": "execute_result"
    }
   ],
   "source": [
    "df_structured[df_structured['Channel Username']=='@Shageronlinestore']"
   ]
  },
  {
   "cell_type": "code",
   "execution_count": 35,
   "id": "8218f675",
   "metadata": {},
   "outputs": [
    {
     "name": "stdout",
     "output_type": "stream",
     "text": [
      "<class 'pandas.core.frame.DataFrame'>\n",
      "Index: 36330 entries, 0 to 37376\n",
      "Data columns (total 7 columns):\n",
      " #   Column            Non-Null Count  Dtype              \n",
      "---  ------            --------------  -----              \n",
      " 0   Channel Title     36330 non-null  object             \n",
      " 1   Channel Username  36330 non-null  object             \n",
      " 2   Message ID        36330 non-null  int64              \n",
      " 3   Sender            0 non-null      object             \n",
      " 4   Date              36330 non-null  datetime64[ns, UTC]\n",
      " 5   Message           36330 non-null  object             \n",
      " 6   Media_Path        36330 non-null  object             \n",
      "dtypes: datetime64[ns, UTC](1), int64(1), object(5)\n",
      "memory usage: 2.2+ MB\n"
     ]
    }
   ],
   "source": [
    "df_structured.info()"
   ]
  },
  {
   "cell_type": "code",
   "execution_count": 40,
   "id": "87de8c5e",
   "metadata": {},
   "outputs": [],
   "source": [
    "df_structured.to_csv('../data/cleaned_message.csv')"
   ]
  },
  {
   "cell_type": "code",
   "execution_count": null,
   "id": "2e214b50",
   "metadata": {},
   "outputs": [],
   "source": [
    "df1 = load_data('../data/cleaned_message.csv')"
   ]
  }
 ],
 "metadata": {
  "kernelspec": {
   "display_name": ".amhenv",
   "language": "python",
   "name": "python3"
  },
  "language_info": {
   "codemirror_mode": {
    "name": "ipython",
    "version": 3
   },
   "file_extension": ".py",
   "mimetype": "text/x-python",
   "name": "python",
   "nbconvert_exporter": "python",
   "pygments_lexer": "ipython3",
   "version": "3.12.6"
  }
 },
 "nbformat": 4,
 "nbformat_minor": 5
}
