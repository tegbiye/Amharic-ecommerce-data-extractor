{
 "cells": [
  {
   "cell_type": "markdown",
   "id": "b96ceeeb",
   "metadata": {},
   "source": [
    "### Import libraries"
   ]
  },
  {
   "cell_type": "code",
   "execution_count": 12,
   "id": "774a3b70",
   "metadata": {},
   "outputs": [
    {
     "name": "stdout",
     "output_type": "stream",
     "text": [
      "The autoreload extension is already loaded. To reload it, use:\n",
      "  %reload_ext autoreload\n"
     ]
    }
   ],
   "source": [
    "%load_ext autoreload\n",
    "%autoreload 2"
   ]
  },
  {
   "cell_type": "code",
   "execution_count": 13,
   "id": "87aa6172",
   "metadata": {},
   "outputs": [],
   "source": [
    "import pandas as pd\n",
    "import json\n",
    "import sys\n",
    "import os\n",
    "from datasets import Dataset\n",
    "from transformers import AutoTokenizer, AutoModelForTokenClassification, Trainer, TrainingArguments\n",
    "from transformers.trainer_utils import EvalPrediction\n",
    "from seqeval.metrics import precision_score, recall_score, f1_score\n",
    "import torch"
   ]
  },
  {
   "cell_type": "code",
   "execution_count": 14,
   "id": "3e24c379",
   "metadata": {},
   "outputs": [],
   "source": [
    "sys.path.append(os.path.abspath('../src/'))\n",
    "sys.path.append(os.path.abspath('../scripts/'))"
   ]
  },
  {
   "cell_type": "code",
   "execution_count": 15,
   "id": "f9558220",
   "metadata": {},
   "outputs": [],
   "source": [
    "from compare.compare_ner_models import load_conll, logger, fine_tune_model"
   ]
  },
  {
   "cell_type": "code",
   "execution_count": null,
   "id": "1a3d870a",
   "metadata": {},
   "outputs": [],
   "source": [
    "# Define paths and model\n",
    "dataset_file = '../conLL/amharic_ner.conll'  # Conll format saved dataset\n",
    "\n",
    "output_dir1 = \"../models/amharic_ner_xlmr\" \n",
    "output_dir2 = \"../models/amharic_ner_mbert\"\n",
    "output_dir3 = \"../models/amharic_ner_distilbert\"\n",
    "\n",
    "models = [\n",
    "            (\"Davlan/afro-xlmr-base\", output_dir1),\n",
    "            (\"google-bert/bert-base-multilingual-cased\", output_dir2),\n",
    "            (\"distilbert/distilbert-base-multilingual-cased\", output_dir3)\n",
    "        ]\n",
    "\n",
    "output_comparison_file = \"../data/model_comparison.csv\"\n",
    "\n"
   ]
  },
  {
   "cell_type": "code",
   "execution_count": 17,
   "id": "a52de67c",
   "metadata": {},
   "outputs": [],
   "source": [
    "# Define label mappings\n",
    "label2id = {\n",
    "    \"O\": 0,\n",
    "    \"B-Product\": 1,\n",
    "    \"I-Product\": 2,\n",
    "    \"B-PRICE\": 3,\n",
    "    \"I-PRICE\": 4,\n",
    "    \"B-LOC\": 5,\n",
    "    \"I-LOC\": 6\n",
    "}"
   ]
  },
  {
   "cell_type": "code",
   "execution_count": 18,
   "id": "e8bfa59d",
   "metadata": {},
   "outputs": [
    {
     "name": "stderr",
     "output_type": "stream",
     "text": [
      "2025-07-22 10:13:01,377 - INFO - Label mappings: {'O': 0, 'B-Product': 1, 'I-Product': 2, 'B-PRICE': 3, 'I-PRICE': 4, 'B-LOC': 5, 'I-LOC': 6}\n"
     ]
    }
   ],
   "source": [
    "id2label = {v: k for k, v in label2id.items()}\n",
    "logger.info(f\"Label mappings: {label2id}\")"
   ]
  },
  {
   "cell_type": "code",
   "execution_count": 19,
   "id": "d96432f0",
   "metadata": {},
   "outputs": [
    {
     "name": "stderr",
     "output_type": "stream",
     "text": [
      "2025-07-22 10:13:01,642 - INFO - Loaded 200 sentences from ../conLL/amharic_ner.conll\n",
      "2025-07-22 10:13:01,642 - INFO - Unique labels: {'B-Product', 'B-PRICE', 'O', 'I-Product', 'I-PRICE', 'B-LOC'}\n",
      "2025-07-22 10:13:01,642 - INFO - Label counts: {'B-Product': 48, 'B-PRICE': 167, 'O': 5099, 'I-Product': 271, 'I-PRICE': 343, 'B-LOC': 398}\n"
     ]
    }
   ],
   "source": [
    "# Load dataset\n",
    "data = load_conll(dataset_file)\n",
    "# Verify label consistency\n",
    "unique_labels = set(label for sent_labels in data['ner_tags'] for label in sent_labels)\n",
    "missing_labels = unique_labels - set(label2id.keys())\n",
    "if missing_labels:\n",
    "    logger.error(f\"Labels in dataset not in label2id: {missing_labels}\")\n",
    "\n",
    "dataset = Dataset.from_dict(data)\n",
    "        "
   ]
  },
  {
   "cell_type": "code",
   "execution_count": 20,
   "id": "2fa691f9",
   "metadata": {},
   "outputs": [
    {
     "name": "stderr",
     "output_type": "stream",
     "text": [
      "2025-07-22 10:13:01,808 - INFO - Starting fine-tuning for Davlan/afro-xlmr-base\n",
      "Some weights of XLMRobertaForTokenClassification were not initialized from the model checkpoint at Davlan/afro-xlmr-base and are newly initialized: ['classifier.bias', 'classifier.weight']\n",
      "You should probably TRAIN this model on a down-stream task to be able to use it for predictions and inference.\n",
      "2025-07-22 10:13:05,973 - INFO - Loaded Davlan/afro-xlmr-base on cpu\n",
      "2025-07-22 10:13:05,973 - INFO - Dataset split: 160 train, 40 validation\n",
      "Map: 100%|██████████| 160/160 [00:00<00:00, 2539.67 examples/s]\n",
      "Map: 100%|██████████| 40/40 [00:00<00:00, 2574.02 examples/s]\n",
      "2025-07-22 10:13:06,156 - INFO - Tokenized datasets for Davlan/afro-xlmr-base\n",
      "c:\\Users\\ASTU-PG\\Amharic-ecommerce-data-extractor\\.amhenv\\Lib\\site-packages\\torch\\utils\\data\\dataloader.py:665: UserWarning: 'pin_memory' argument is set as true but no accelerator is found, then device pinned memory won't be used.\n",
      "  warnings.warn(warn_msg)\n"
     ]
    },
    {
     "data": {
      "text/html": [
       "\n",
       "    <div>\n",
       "      \n",
       "      <progress value='100' max='100' style='width:300px; height:20px; vertical-align: middle;'></progress>\n",
       "      [100/100 17:14, Epoch 5/5]\n",
       "    </div>\n",
       "    <table border=\"1\" class=\"dataframe\">\n",
       "  <thead>\n",
       " <tr style=\"text-align: left;\">\n",
       "      <th>Epoch</th>\n",
       "      <th>Training Loss</th>\n",
       "      <th>Validation Loss</th>\n",
       "      <th>Precision</th>\n",
       "      <th>Recall</th>\n",
       "      <th>F1</th>\n",
       "    </tr>\n",
       "  </thead>\n",
       "  <tbody>\n",
       "    <tr>\n",
       "      <td>1</td>\n",
       "      <td>0.636600</td>\n",
       "      <td>0.509468</td>\n",
       "      <td>0.493671</td>\n",
       "      <td>0.246835</td>\n",
       "      <td>0.329114</td>\n",
       "    </tr>\n",
       "    <tr>\n",
       "      <td>2</td>\n",
       "      <td>0.346400</td>\n",
       "      <td>0.223549</td>\n",
       "      <td>0.835912</td>\n",
       "      <td>0.873418</td>\n",
       "      <td>0.853691</td>\n",
       "    </tr>\n",
       "    <tr>\n",
       "      <td>3</td>\n",
       "      <td>0.239800</td>\n",
       "      <td>0.152906</td>\n",
       "      <td>0.869066</td>\n",
       "      <td>0.905063</td>\n",
       "      <td>0.886241</td>\n",
       "    </tr>\n",
       "    <tr>\n",
       "      <td>4</td>\n",
       "      <td>0.169300</td>\n",
       "      <td>0.127259</td>\n",
       "      <td>0.913694</td>\n",
       "      <td>0.936709</td>\n",
       "      <td>0.924895</td>\n",
       "    </tr>\n",
       "    <tr>\n",
       "      <td>5</td>\n",
       "      <td>0.119000</td>\n",
       "      <td>0.115943</td>\n",
       "      <td>0.907694</td>\n",
       "      <td>0.930380</td>\n",
       "      <td>0.918734</td>\n",
       "    </tr>\n",
       "  </tbody>\n",
       "</table><p>"
      ],
      "text/plain": [
       "<IPython.core.display.HTML object>"
      ]
     },
     "metadata": {},
     "output_type": "display_data"
    },
    {
     "name": "stderr",
     "output_type": "stream",
     "text": [
      "2025-07-22 10:18:34,487 - INFO - Evaluation metrics: {'LOC': {'precision': np.float64(1.0), 'recall': np.float64(0.5), 'f1-score': np.float64(0.6666666666666666), 'support': np.int64(78)}, 'PRICE': {'precision': np.float64(0.0), 'recall': np.float64(0.0), 'f1-score': np.float64(0.0), 'support': np.int64(73)}, 'Product': {'precision': np.float64(0.0), 'recall': np.float64(0.0), 'f1-score': np.float64(0.0), 'support': np.int64(7)}, 'micro avg': {'precision': np.float64(0.5735294117647058), 'recall': np.float64(0.2468354430379747), 'f1-score': np.float64(0.34513274336283184), 'support': np.int64(158)}, 'macro avg': {'precision': np.float64(0.3333333333333333), 'recall': np.float64(0.16666666666666666), 'f1-score': np.float64(0.2222222222222222), 'support': np.int64(158)}, 'weighted avg': {'precision': np.float64(0.4936708860759494), 'recall': np.float64(0.2468354430379747), 'f1-score': np.float64(0.3291139240506329), 'support': np.int64(158)}}\n",
      "c:\\Users\\ASTU-PG\\Amharic-ecommerce-data-extractor\\.amhenv\\Lib\\site-packages\\torch\\utils\\data\\dataloader.py:665: UserWarning: 'pin_memory' argument is set as true but no accelerator is found, then device pinned memory won't be used.\n",
      "  warnings.warn(warn_msg)\n",
      "2025-07-22 10:21:41,281 - INFO - Evaluation metrics: {'LOC': {'precision': np.float64(1.0), 'recall': np.float64(1.0), 'f1-score': np.float64(1.0), 'support': np.int64(78)}, 'PRICE': {'precision': np.float64(0.7407407407407407), 'recall': np.float64(0.821917808219178), 'f1-score': np.float64(0.7792207792207793), 'support': np.int64(73)}, 'Product': {'precision': np.float64(0.0), 'recall': np.float64(0.0), 'f1-score': np.float64(0.0), 'support': np.int64(7)}, 'micro avg': {'precision': np.float64(0.8679245283018868), 'recall': np.float64(0.8734177215189873), 'f1-score': np.float64(0.8706624605678234), 'support': np.int64(158)}, 'macro avg': {'precision': np.float64(0.5802469135802469), 'recall': np.float64(0.6073059360730594), 'f1-score': np.float64(0.5930735930735931), 'support': np.int64(158)}, 'weighted avg': {'precision': np.float64(0.835911861228317), 'recall': np.float64(0.8734177215189873), 'f1-score': np.float64(0.8536906131842841), 'support': np.int64(158)}}\n",
      "c:\\Users\\ASTU-PG\\Amharic-ecommerce-data-extractor\\.amhenv\\Lib\\site-packages\\torch\\utils\\data\\dataloader.py:665: UserWarning: 'pin_memory' argument is set as true but no accelerator is found, then device pinned memory won't be used.\n",
      "  warnings.warn(warn_msg)\n",
      "2025-07-22 10:24:38,996 - INFO - Evaluation metrics: {'LOC': {'precision': np.float64(1.0), 'recall': np.float64(1.0), 'f1-score': np.float64(1.0), 'support': np.int64(78)}, 'PRICE': {'precision': np.float64(0.8125), 'recall': np.float64(0.8904109589041096), 'f1-score': np.float64(0.8496732026143791), 'support': np.int64(73)}, 'Product': {'precision': np.float64(0.0), 'recall': np.float64(0.0), 'f1-score': np.float64(0.0), 'support': np.int64(7)}, 'micro avg': {'precision': np.float64(0.9050632911392406), 'recall': np.float64(0.9050632911392406), 'f1-score': np.float64(0.9050632911392406), 'support': np.int64(158)}, 'macro avg': {'precision': np.float64(0.6041666666666666), 'recall': np.float64(0.6301369863013698), 'f1-score': np.float64(0.6165577342047931), 'support': np.int64(158)}, 'weighted avg': {'precision': np.float64(0.8690664556962026), 'recall': np.float64(0.9050632911392406), 'f1-score': np.float64(0.8862414163977829), 'support': np.int64(158)}}\n",
      "c:\\Users\\ASTU-PG\\Amharic-ecommerce-data-extractor\\.amhenv\\Lib\\site-packages\\torch\\utils\\data\\dataloader.py:665: UserWarning: 'pin_memory' argument is set as true but no accelerator is found, then device pinned memory won't be used.\n",
      "  warnings.warn(warn_msg)\n",
      "2025-07-22 10:28:14,182 - INFO - Evaluation metrics: {'LOC': {'precision': np.float64(1.0), 'recall': np.float64(1.0), 'f1-score': np.float64(1.0), 'support': np.int64(78)}, 'PRICE': {'precision': np.float64(0.9090909090909091), 'recall': np.float64(0.958904109589041), 'f1-score': np.float64(0.9333333333333333), 'support': np.int64(73)}, 'Product': {'precision': np.float64(0.0), 'recall': np.float64(0.0), 'f1-score': np.float64(0.0), 'support': np.int64(7)}, 'micro avg': {'precision': np.float64(0.9367088607594937), 'recall': np.float64(0.9367088607594937), 'f1-score': np.float64(0.9367088607594937), 'support': np.int64(158)}, 'macro avg': {'precision': np.float64(0.6363636363636364), 'recall': np.float64(0.6529680365296803), 'f1-score': np.float64(0.6444444444444445), 'support': np.int64(158)}, 'weighted avg': {'precision': np.float64(0.9136939010356733), 'recall': np.float64(0.9367088607594937), 'f1-score': np.float64(0.9248945147679325), 'support': np.int64(158)}}\n",
      "c:\\Users\\ASTU-PG\\Amharic-ecommerce-data-extractor\\.amhenv\\Lib\\site-packages\\torch\\utils\\data\\dataloader.py:665: UserWarning: 'pin_memory' argument is set as true but no accelerator is found, then device pinned memory won't be used.\n",
      "  warnings.warn(warn_msg)\n",
      "2025-07-22 10:31:14,233 - INFO - Evaluation metrics: {'LOC': {'precision': np.float64(1.0), 'recall': np.float64(1.0), 'f1-score': np.float64(1.0), 'support': np.int64(78)}, 'PRICE': {'precision': np.float64(0.8961038961038961), 'recall': np.float64(0.9452054794520548), 'f1-score': np.float64(0.9199999999999999), 'support': np.int64(73)}, 'Product': {'precision': np.float64(0.0), 'recall': np.float64(0.0), 'f1-score': np.float64(0.0), 'support': np.int64(7)}, 'micro avg': {'precision': np.float64(0.9130434782608695), 'recall': np.float64(0.930379746835443), 'f1-score': np.float64(0.9216300940438872), 'support': np.int64(158)}, 'macro avg': {'precision': np.float64(0.6320346320346321), 'recall': np.float64(0.6484018264840182), 'f1-score': np.float64(0.64), 'support': np.int64(158)}, 'weighted avg': {'precision': np.float64(0.9076935722505343), 'recall': np.float64(0.930379746835443), 'f1-score': np.float64(0.9187341772151899), 'support': np.int64(158)}}\n",
      "2025-07-22 10:32:29,429 - INFO - Training completed for Davlan/afro-xlmr-base in 1162.88 seconds\n",
      "c:\\Users\\ASTU-PG\\Amharic-ecommerce-data-extractor\\.amhenv\\Lib\\site-packages\\torch\\utils\\data\\dataloader.py:665: UserWarning: 'pin_memory' argument is set as true but no accelerator is found, then device pinned memory won't be used.\n",
      "  warnings.warn(warn_msg)\n"
     ]
    },
    {
     "data": {
      "text/html": [
       "\n",
       "    <div>\n",
       "      \n",
       "      <progress value='5' max='5' style='width:300px; height:20px; vertical-align: middle;'></progress>\n",
       "      [5/5 00:03]\n",
       "    </div>\n",
       "    "
      ],
      "text/plain": [
       "<IPython.core.display.HTML object>"
      ]
     },
     "metadata": {},
     "output_type": "display_data"
    },
    {
     "name": "stderr",
     "output_type": "stream",
     "text": [
      "2025-07-22 10:32:33,523 - INFO - Evaluation metrics: {'LOC': {'precision': np.float64(1.0), 'recall': np.float64(1.0), 'f1-score': np.float64(1.0), 'support': np.int64(78)}, 'PRICE': {'precision': np.float64(0.8961038961038961), 'recall': np.float64(0.9452054794520548), 'f1-score': np.float64(0.9199999999999999), 'support': np.int64(73)}, 'Product': {'precision': np.float64(0.0), 'recall': np.float64(0.0), 'f1-score': np.float64(0.0), 'support': np.int64(7)}, 'micro avg': {'precision': np.float64(0.9130434782608695), 'recall': np.float64(0.930379746835443), 'f1-score': np.float64(0.9216300940438872), 'support': np.int64(158)}, 'macro avg': {'precision': np.float64(0.6320346320346321), 'recall': np.float64(0.6484018264840182), 'f1-score': np.float64(0.64), 'support': np.int64(158)}, 'weighted avg': {'precision': np.float64(0.9076935722505343), 'recall': np.float64(0.930379746835443), 'f1-score': np.float64(0.9187341772151899), 'support': np.int64(158)}}\n",
      "2025-07-22 10:32:33,523 - INFO - Evaluation results for Davlan/afro-xlmr-base: {'eval_loss': 0.11594315618276596, 'eval_precision': 0.9076935722505343, 'eval_recall': 0.930379746835443, 'eval_f1': 0.9187341772151899, 'eval_runtime': 3.9901, 'eval_samples_per_second': 10.025, 'eval_steps_per_second': 1.253, 'epoch': 5.0}\n",
      "2025-07-22 10:32:53,945 - INFO - Average inference time per sample for Davlan/afro-xlmr-base: 0.5105 seconds\n",
      "2025-07-22 10:33:23,411 - INFO - Saved Davlan/afro-xlmr-base to ../models/amharic_ner_xlmr\n",
      "2025-07-22 10:33:43,161 - INFO - Starting fine-tuning for google-bert/bert-base-multilingual-cased\n",
      "Xet Storage is enabled for this repo, but the 'hf_xet' package is not installed. Falling back to regular HTTP download. For better performance, install the package with: `pip install huggingface_hub[hf_xet]` or `pip install hf_xet`\n",
      "2025-07-22 10:33:58,443 - WARNING - Xet Storage is enabled for this repo, but the 'hf_xet' package is not installed. Falling back to regular HTTP download. For better performance, install the package with: `pip install huggingface_hub[hf_xet]` or `pip install hf_xet`\n",
      "Some weights of BertForTokenClassification were not initialized from the model checkpoint at google-bert/bert-base-multilingual-cased and are newly initialized: ['classifier.bias', 'classifier.weight']\n",
      "You should probably TRAIN this model on a down-stream task to be able to use it for predictions and inference.\n",
      "2025-07-22 10:35:21,726 - INFO - Loaded google-bert/bert-base-multilingual-cased on cpu\n",
      "2025-07-22 10:35:23,047 - INFO - Dataset split: 160 train, 40 validation\n",
      "Map: 100%|██████████| 160/160 [00:02<00:00, 54.84 examples/s]\n",
      "Map: 100%|██████████| 40/40 [00:00<00:00, 785.79 examples/s]\n",
      "2025-07-22 10:35:27,745 - INFO - Tokenized datasets for google-bert/bert-base-multilingual-cased\n"
     ]
    },
    {
     "data": {
      "text/html": [
       "\n",
       "    <div>\n",
       "      \n",
       "      <progress value='100' max='100' style='width:300px; height:20px; vertical-align: middle;'></progress>\n",
       "      [100/100 07:50, Epoch 5/5]\n",
       "    </div>\n",
       "    <table border=\"1\" class=\"dataframe\">\n",
       "  <thead>\n",
       " <tr style=\"text-align: left;\">\n",
       "      <th>Epoch</th>\n",
       "      <th>Training Loss</th>\n",
       "      <th>Validation Loss</th>\n",
       "      <th>Precision</th>\n",
       "      <th>Recall</th>\n",
       "      <th>F1</th>\n",
       "    </tr>\n",
       "  </thead>\n",
       "  <tbody>\n",
       "    <tr>\n",
       "      <td>1</td>\n",
       "      <td>0.566400</td>\n",
       "      <td>0.424004</td>\n",
       "      <td>0.612903</td>\n",
       "      <td>0.297468</td>\n",
       "      <td>0.400195</td>\n",
       "    </tr>\n",
       "    <tr>\n",
       "      <td>2</td>\n",
       "      <td>0.394800</td>\n",
       "      <td>0.302420</td>\n",
       "      <td>0.810768</td>\n",
       "      <td>0.841772</td>\n",
       "      <td>0.824993</td>\n",
       "    </tr>\n",
       "    <tr>\n",
       "      <td>3</td>\n",
       "      <td>0.315700</td>\n",
       "      <td>0.255224</td>\n",
       "      <td>0.831305</td>\n",
       "      <td>0.854430</td>\n",
       "      <td>0.842485</td>\n",
       "    </tr>\n",
       "    <tr>\n",
       "      <td>4</td>\n",
       "      <td>0.269500</td>\n",
       "      <td>0.215193</td>\n",
       "      <td>0.849075</td>\n",
       "      <td>0.873418</td>\n",
       "      <td>0.860843</td>\n",
       "    </tr>\n",
       "    <tr>\n",
       "      <td>5</td>\n",
       "      <td>0.190900</td>\n",
       "      <td>0.210080</td>\n",
       "      <td>0.851741</td>\n",
       "      <td>0.886076</td>\n",
       "      <td>0.868123</td>\n",
       "    </tr>\n",
       "  </tbody>\n",
       "</table><p>"
      ],
      "text/plain": [
       "<IPython.core.display.HTML object>"
      ]
     },
     "metadata": {},
     "output_type": "display_data"
    },
    {
     "name": "stderr",
     "output_type": "stream",
     "text": [
      "2025-07-22 10:36:47,759 - INFO - Evaluation metrics: {'LOC': {'precision': np.float64(1.0), 'recall': np.float64(0.5), 'f1-score': np.float64(0.6666666666666666), 'support': np.int64(78)}, 'PRICE': {'precision': np.float64(0.25806451612903225), 'recall': np.float64(0.1095890410958904), 'f1-score': np.float64(0.15384615384615383), 'support': np.int64(73)}, 'Product': {'precision': np.float64(0.0), 'recall': np.float64(0.0), 'f1-score': np.float64(0.0), 'support': np.int64(7)}, 'micro avg': {'precision': np.float64(0.6714285714285714), 'recall': np.float64(0.2974683544303797), 'f1-score': np.float64(0.41228070175438597), 'support': np.int64(158)}, 'macro avg': {'precision': np.float64(0.41935483870967744), 'recall': np.float64(0.20319634703196346), 'f1-score': np.float64(0.2735042735042735), 'support': np.int64(158)}, 'weighted avg': {'precision': np.float64(0.6129032258064516), 'recall': np.float64(0.2974683544303797), 'f1-score': np.float64(0.40019474196689386), 'support': np.int64(158)}}\n",
      "c:\\Users\\ASTU-PG\\Amharic-ecommerce-data-extractor\\.amhenv\\Lib\\site-packages\\torch\\utils\\data\\dataloader.py:665: UserWarning: 'pin_memory' argument is set as true but no accelerator is found, then device pinned memory won't be used.\n",
      "  warnings.warn(warn_msg)\n",
      "2025-07-22 10:38:23,910 - INFO - Evaluation metrics: {'LOC': {'precision': np.float64(0.9069767441860465), 'recall': np.float64(1.0), 'f1-score': np.float64(0.951219512195122), 'support': np.int64(78)}, 'PRICE': {'precision': np.float64(0.7857142857142857), 'recall': np.float64(0.7534246575342466), 'f1-score': np.float64(0.7692307692307693), 'support': np.int64(73)}, 'Product': {'precision': np.float64(0.0), 'recall': np.float64(0.0), 'f1-score': np.float64(0.0), 'support': np.int64(7)}, 'micro avg': {'precision': np.float64(0.8525641025641025), 'recall': np.float64(0.8417721518987342), 'f1-score': np.float64(0.8471337579617834), 'support': np.int64(158)}, 'macro avg': {'precision': np.float64(0.5642303433001107), 'recall': np.float64(0.5844748858447488), 'f1-score': np.float64(0.5734834271419638), 'support': np.int64(158)}, 'weighted avg': {'precision': np.float64(0.8107679044535094), 'recall': np.float64(0.8417721518987342), 'f1-score': np.float64(0.8249934690194032), 'support': np.int64(158)}}\n",
      "c:\\Users\\ASTU-PG\\Amharic-ecommerce-data-extractor\\.amhenv\\Lib\\site-packages\\torch\\utils\\data\\dataloader.py:665: UserWarning: 'pin_memory' argument is set as true but no accelerator is found, then device pinned memory won't be used.\n",
      "  warnings.warn(warn_msg)\n",
      "2025-07-22 10:39:57,028 - INFO - Evaluation metrics: {'LOC': {'precision': np.float64(1.0), 'recall': np.float64(1.0), 'f1-score': np.float64(1.0), 'support': np.int64(78)}, 'PRICE': {'precision': np.float64(0.7307692307692307), 'recall': np.float64(0.7808219178082192), 'f1-score': np.float64(0.7549668874172185), 'support': np.int64(73)}, 'Product': {'precision': np.float64(0.0), 'recall': np.float64(0.0), 'f1-score': np.float64(0.0), 'support': np.int64(7)}, 'micro avg': {'precision': np.float64(0.8132530120481928), 'recall': np.float64(0.8544303797468354), 'f1-score': np.float64(0.8333333333333334), 'support': np.int64(158)}, 'macro avg': {'precision': np.float64(0.576923076923077), 'recall': np.float64(0.593607305936073), 'f1-score': np.float64(0.5849889624724062), 'support': np.int64(158)}, 'weighted avg': {'precision': np.float64(0.8313047711781889), 'recall': np.float64(0.8544303797468354), 'f1-score': np.float64(0.8424847011484617), 'support': np.int64(158)}}\n",
      "c:\\Users\\ASTU-PG\\Amharic-ecommerce-data-extractor\\.amhenv\\Lib\\site-packages\\torch\\utils\\data\\dataloader.py:665: UserWarning: 'pin_memory' argument is set as true but no accelerator is found, then device pinned memory won't be used.\n",
      "  warnings.warn(warn_msg)\n",
      "2025-07-22 10:41:42,740 - INFO - Evaluation metrics: {'LOC': {'precision': np.float64(1.0), 'recall': np.float64(1.0), 'f1-score': np.float64(1.0), 'support': np.int64(78)}, 'PRICE': {'precision': np.float64(0.7692307692307693), 'recall': np.float64(0.821917808219178), 'f1-score': np.float64(0.794701986754967), 'support': np.int64(73)}, 'Product': {'precision': np.float64(0.0), 'recall': np.float64(0.0), 'f1-score': np.float64(0.0), 'support': np.int64(7)}, 'micro avg': {'precision': np.float64(0.8625), 'recall': np.float64(0.8734177215189873), 'f1-score': np.float64(0.8679245283018868), 'support': np.int64(158)}, 'macro avg': {'precision': np.float64(0.5897435897435898), 'recall': np.float64(0.6073059360730594), 'f1-score': np.float64(0.598233995584989), 'support': np.int64(158)}, 'weighted avg': {'precision': np.float64(0.8490749756572542), 'recall': np.float64(0.8734177215189873), 'f1-score': np.float64(0.8608433229943835), 'support': np.int64(158)}}\n",
      "c:\\Users\\ASTU-PG\\Amharic-ecommerce-data-extractor\\.amhenv\\Lib\\site-packages\\torch\\utils\\data\\dataloader.py:665: UserWarning: 'pin_memory' argument is set as true but no accelerator is found, then device pinned memory won't be used.\n",
      "  warnings.warn(warn_msg)\n",
      "2025-07-22 10:43:09,207 - INFO - Evaluation metrics: {'LOC': {'precision': np.float64(1.0), 'recall': np.float64(1.0), 'f1-score': np.float64(1.0), 'support': np.int64(78)}, 'PRICE': {'precision': np.float64(0.775), 'recall': np.float64(0.8493150684931506), 'f1-score': np.float64(0.8104575163398693), 'support': np.int64(73)}, 'Product': {'precision': np.float64(0.0), 'recall': np.float64(0.0), 'f1-score': np.float64(0.0), 'support': np.int64(7)}, 'micro avg': {'precision': np.float64(0.8860759493670886), 'recall': np.float64(0.8860759493670886), 'f1-score': np.float64(0.8860759493670886), 'support': np.int64(158)}, 'macro avg': {'precision': np.float64(0.5916666666666667), 'recall': np.float64(0.6164383561643835), 'f1-score': np.float64(0.6034858387799564), 'support': np.int64(158)}, 'weighted avg': {'precision': np.float64(0.8517405063291138), 'recall': np.float64(0.8860759493670886), 'f1-score': np.float64(0.868122776536775), 'support': np.int64(158)}}\n",
      "2025-07-22 10:43:41,070 - INFO - Training completed for google-bert/bert-base-multilingual-cased in 491.54 seconds\n",
      "c:\\Users\\ASTU-PG\\Amharic-ecommerce-data-extractor\\.amhenv\\Lib\\site-packages\\torch\\utils\\data\\dataloader.py:665: UserWarning: 'pin_memory' argument is set as true but no accelerator is found, then device pinned memory won't be used.\n",
      "  warnings.warn(warn_msg)\n"
     ]
    },
    {
     "data": {
      "text/html": [
       "\n",
       "    <div>\n",
       "      \n",
       "      <progress value='5' max='5' style='width:300px; height:20px; vertical-align: middle;'></progress>\n",
       "      [5/5 00:01]\n",
       "    </div>\n",
       "    "
      ],
      "text/plain": [
       "<IPython.core.display.HTML object>"
      ]
     },
     "metadata": {},
     "output_type": "display_data"
    },
    {
     "name": "stderr",
     "output_type": "stream",
     "text": [
      "2025-07-22 10:43:42,920 - INFO - Evaluation metrics: {'LOC': {'precision': np.float64(1.0), 'recall': np.float64(1.0), 'f1-score': np.float64(1.0), 'support': np.int64(78)}, 'PRICE': {'precision': np.float64(0.775), 'recall': np.float64(0.8493150684931506), 'f1-score': np.float64(0.8104575163398693), 'support': np.int64(73)}, 'Product': {'precision': np.float64(0.0), 'recall': np.float64(0.0), 'f1-score': np.float64(0.0), 'support': np.int64(7)}, 'micro avg': {'precision': np.float64(0.8860759493670886), 'recall': np.float64(0.8860759493670886), 'f1-score': np.float64(0.8860759493670886), 'support': np.int64(158)}, 'macro avg': {'precision': np.float64(0.5916666666666667), 'recall': np.float64(0.6164383561643835), 'f1-score': np.float64(0.6034858387799564), 'support': np.int64(158)}, 'weighted avg': {'precision': np.float64(0.8517405063291138), 'recall': np.float64(0.8860759493670886), 'f1-score': np.float64(0.868122776536775), 'support': np.int64(158)}}\n",
      "2025-07-22 10:43:42,920 - INFO - Evaluation results for google-bert/bert-base-multilingual-cased: {'eval_loss': 0.2100803107023239, 'eval_precision': 0.8517405063291138, 'eval_recall': 0.8860759493670886, 'eval_f1': 0.868122776536775, 'eval_runtime': 1.8499, 'eval_samples_per_second': 21.623, 'eval_steps_per_second': 2.703, 'epoch': 5.0}\n",
      "2025-07-22 10:43:45,171 - INFO - Average inference time per sample for google-bert/bert-base-multilingual-cased: 0.0563 seconds\n",
      "2025-07-22 10:44:00,069 - INFO - Saved google-bert/bert-base-multilingual-cased to ../models/amharic_ner_mbert\n",
      "2025-07-22 10:44:00,154 - INFO - Starting fine-tuning for distilbert/distilbert-base-multilingual-cased\n",
      "Some weights of DistilBertForTokenClassification were not initialized from the model checkpoint at distilbert/distilbert-base-multilingual-cased and are newly initialized: ['classifier.bias', 'classifier.weight']\n",
      "You should probably TRAIN this model on a down-stream task to be able to use it for predictions and inference.\n",
      "2025-07-22 10:44:07,380 - INFO - Loaded distilbert/distilbert-base-multilingual-cased on cpu\n",
      "2025-07-22 10:44:07,396 - INFO - Dataset split: 160 train, 40 validation\n",
      "Map: 100%|██████████| 160/160 [00:00<00:00, 3330.08 examples/s]\n",
      "Map: 100%|██████████| 40/40 [00:00<00:00, 3169.52 examples/s]\n",
      "2025-07-22 10:44:07,522 - INFO - Tokenized datasets for distilbert/distilbert-base-multilingual-cased\n"
     ]
    },
    {
     "data": {
      "text/html": [
       "\n",
       "    <div>\n",
       "      \n",
       "      <progress value='100' max='100' style='width:300px; height:20px; vertical-align: middle;'></progress>\n",
       "      [100/100 07:01, Epoch 5/5]\n",
       "    </div>\n",
       "    <table border=\"1\" class=\"dataframe\">\n",
       "  <thead>\n",
       " <tr style=\"text-align: left;\">\n",
       "      <th>Epoch</th>\n",
       "      <th>Training Loss</th>\n",
       "      <th>Validation Loss</th>\n",
       "      <th>Precision</th>\n",
       "      <th>Recall</th>\n",
       "      <th>F1</th>\n",
       "    </tr>\n",
       "  </thead>\n",
       "  <tbody>\n",
       "    <tr>\n",
       "      <td>1</td>\n",
       "      <td>0.679500</td>\n",
       "      <td>0.626131</td>\n",
       "      <td>0.493671</td>\n",
       "      <td>0.246835</td>\n",
       "      <td>0.329114</td>\n",
       "    </tr>\n",
       "    <tr>\n",
       "      <td>2</td>\n",
       "      <td>0.469100</td>\n",
       "      <td>0.381109</td>\n",
       "      <td>0.534406</td>\n",
       "      <td>0.639241</td>\n",
       "      <td>0.569955</td>\n",
       "    </tr>\n",
       "    <tr>\n",
       "      <td>3</td>\n",
       "      <td>0.355600</td>\n",
       "      <td>0.264875</td>\n",
       "      <td>0.789367</td>\n",
       "      <td>0.797468</td>\n",
       "      <td>0.793363</td>\n",
       "    </tr>\n",
       "    <tr>\n",
       "      <td>4</td>\n",
       "      <td>0.261400</td>\n",
       "      <td>0.241264</td>\n",
       "      <td>0.793687</td>\n",
       "      <td>0.810127</td>\n",
       "      <td>0.801688</td>\n",
       "    </tr>\n",
       "    <tr>\n",
       "      <td>5</td>\n",
       "      <td>0.201700</td>\n",
       "      <td>0.222806</td>\n",
       "      <td>0.791940</td>\n",
       "      <td>0.816456</td>\n",
       "      <td>0.803714</td>\n",
       "    </tr>\n",
       "  </tbody>\n",
       "</table><p>"
      ],
      "text/plain": [
       "<IPython.core.display.HTML object>"
      ]
     },
     "metadata": {},
     "output_type": "display_data"
    },
    {
     "name": "stderr",
     "output_type": "stream",
     "text": [
      "2025-07-22 10:45:15,609 - INFO - Evaluation metrics: {'LOC': {'precision': np.float64(1.0), 'recall': np.float64(0.5), 'f1-score': np.float64(0.6666666666666666), 'support': np.int64(78)}, 'PRICE': {'precision': np.float64(0.0), 'recall': np.float64(0.0), 'f1-score': np.float64(0.0), 'support': np.int64(73)}, 'Product': {'precision': np.float64(0.0), 'recall': np.float64(0.0), 'f1-score': np.float64(0.0), 'support': np.int64(7)}, 'micro avg': {'precision': np.float64(1.0), 'recall': np.float64(0.2468354430379747), 'f1-score': np.float64(0.39593908629441626), 'support': np.int64(158)}, 'macro avg': {'precision': np.float64(0.3333333333333333), 'recall': np.float64(0.16666666666666666), 'f1-score': np.float64(0.2222222222222222), 'support': np.int64(158)}, 'weighted avg': {'precision': np.float64(0.4936708860759494), 'recall': np.float64(0.2468354430379747), 'f1-score': np.float64(0.3291139240506329), 'support': np.int64(158)}}\n",
      "c:\\Users\\ASTU-PG\\Amharic-ecommerce-data-extractor\\.amhenv\\Lib\\site-packages\\torch\\utils\\data\\dataloader.py:665: UserWarning: 'pin_memory' argument is set as true but no accelerator is found, then device pinned memory won't be used.\n",
      "  warnings.warn(warn_msg)\n",
      "2025-07-22 10:46:19,115 - INFO - Evaluation metrics: {'LOC': {'precision': np.float64(0.6814159292035398), 'recall': np.float64(0.9871794871794872), 'f1-score': np.float64(0.8062827225130891), 'support': np.int64(78)}, 'PRICE': {'precision': np.float64(0.42857142857142855), 'recall': np.float64(0.3287671232876712), 'f1-score': np.float64(0.37209302325581395), 'support': np.int64(73)}, 'Product': {'precision': np.float64(0.0), 'recall': np.float64(0.0), 'f1-score': np.float64(0.0), 'support': np.int64(7)}, 'micro avg': {'precision': np.float64(0.5976331360946746), 'recall': np.float64(0.6392405063291139), 'f1-score': np.float64(0.617737003058104), 'support': np.int64(158)}, 'macro avg': {'precision': np.float64(0.36999578592498944), 'recall': np.float64(0.43864887015571946), 'f1-score': np.float64(0.392791915256301), 'support': np.int64(158)}, 'weighted avg': {'precision': np.float64(0.5344060554657619), 'recall': np.float64(0.6392405063291139), 'f1-score': np.float64(0.5699547028714896), 'support': np.int64(158)}}\n",
      "c:\\Users\\ASTU-PG\\Amharic-ecommerce-data-extractor\\.amhenv\\Lib\\site-packages\\torch\\utils\\data\\dataloader.py:665: UserWarning: 'pin_memory' argument is set as true but no accelerator is found, then device pinned memory won't be used.\n",
      "  warnings.warn(warn_msg)\n",
      "2025-07-22 10:47:22,953 - INFO - Evaluation metrics: {'LOC': {'precision': np.float64(1.0), 'recall': np.float64(1.0), 'f1-score': np.float64(1.0), 'support': np.int64(78)}, 'PRICE': {'precision': np.float64(0.64), 'recall': np.float64(0.6575342465753424), 'f1-score': np.float64(0.6486486486486486), 'support': np.int64(73)}, 'Product': {'precision': np.float64(0.0), 'recall': np.float64(0.0), 'f1-score': np.float64(0.0), 'support': np.int64(7)}, 'micro avg': {'precision': np.float64(0.8235294117647058), 'recall': np.float64(0.7974683544303798), 'f1-score': np.float64(0.8102893890675241), 'support': np.int64(158)}, 'macro avg': {'precision': np.float64(0.5466666666666667), 'recall': np.float64(0.5525114155251142), 'f1-score': np.float64(0.5495495495495496), 'support': np.int64(158)}, 'weighted avg': {'precision': np.float64(0.789367088607595), 'recall': np.float64(0.7974683544303798), 'f1-score': np.float64(0.793362983236401), 'support': np.int64(158)}}\n",
      "c:\\Users\\ASTU-PG\\Amharic-ecommerce-data-extractor\\.amhenv\\Lib\\site-packages\\torch\\utils\\data\\dataloader.py:665: UserWarning: 'pin_memory' argument is set as true but no accelerator is found, then device pinned memory won't be used.\n",
      "  warnings.warn(warn_msg)\n",
      "2025-07-22 10:48:29,153 - INFO - Evaluation metrics: {'LOC': {'precision': np.float64(1.0), 'recall': np.float64(1.0), 'f1-score': np.float64(1.0), 'support': np.int64(78)}, 'PRICE': {'precision': np.float64(0.6493506493506493), 'recall': np.float64(0.684931506849315), 'f1-score': np.float64(0.6666666666666666), 'support': np.int64(73)}, 'Product': {'precision': np.float64(0.0), 'recall': np.float64(0.0), 'f1-score': np.float64(0.0), 'support': np.int64(7)}, 'micro avg': {'precision': np.float64(0.810126582278481), 'recall': np.float64(0.810126582278481), 'f1-score': np.float64(0.810126582278481), 'support': np.int64(158)}, 'macro avg': {'precision': np.float64(0.5497835497835498), 'recall': np.float64(0.5616438356164384), 'f1-score': np.float64(0.5555555555555555), 'support': np.int64(158)}, 'weighted avg': {'precision': np.float64(0.7936873253328949), 'recall': np.float64(0.810126582278481), 'f1-score': np.float64(0.8016877637130801), 'support': np.int64(158)}}\n",
      "c:\\Users\\ASTU-PG\\Amharic-ecommerce-data-extractor\\.amhenv\\Lib\\site-packages\\torch\\utils\\data\\dataloader.py:665: UserWarning: 'pin_memory' argument is set as true but no accelerator is found, then device pinned memory won't be used.\n",
      "  warnings.warn(warn_msg)\n",
      "2025-07-22 10:49:58,850 - INFO - Evaluation metrics: {'LOC': {'precision': np.float64(1.0), 'recall': np.float64(1.0), 'f1-score': np.float64(1.0), 'support': np.int64(78)}, 'PRICE': {'precision': np.float64(0.6455696202531646), 'recall': np.float64(0.6986301369863014), 'f1-score': np.float64(0.6710526315789473), 'support': np.int64(73)}, 'Product': {'precision': np.float64(0.0), 'recall': np.float64(0.0), 'f1-score': np.float64(0.0), 'support': np.int64(7)}, 'micro avg': {'precision': np.float64(0.821656050955414), 'recall': np.float64(0.8164556962025317), 'f1-score': np.float64(0.8190476190476191), 'support': np.int64(158)}, 'macro avg': {'precision': np.float64(0.5485232067510548), 'recall': np.float64(0.5662100456621005), 'f1-score': np.float64(0.5570175438596491), 'support': np.int64(158)}, 'weighted avg': {'precision': np.float64(0.7919403941676013), 'recall': np.float64(0.8164556962025317), 'f1-score': np.float64(0.8037141905396402), 'support': np.int64(158)}}\n",
      "2025-07-22 10:51:43,019 - INFO - Training completed for distilbert/distilbert-base-multilingual-cased in 455.35 seconds\n",
      "c:\\Users\\ASTU-PG\\Amharic-ecommerce-data-extractor\\.amhenv\\Lib\\site-packages\\torch\\utils\\data\\dataloader.py:665: UserWarning: 'pin_memory' argument is set as true but no accelerator is found, then device pinned memory won't be used.\n",
      "  warnings.warn(warn_msg)\n"
     ]
    },
    {
     "data": {
      "text/html": [
       "\n",
       "    <div>\n",
       "      \n",
       "      <progress value='5' max='5' style='width:300px; height:20px; vertical-align: middle;'></progress>\n",
       "      [5/5 00:00]\n",
       "    </div>\n",
       "    "
      ],
      "text/plain": [
       "<IPython.core.display.HTML object>"
      ]
     },
     "metadata": {},
     "output_type": "display_data"
    },
    {
     "name": "stderr",
     "output_type": "stream",
     "text": [
      "2025-07-22 10:51:44,013 - INFO - Evaluation metrics: {'LOC': {'precision': np.float64(1.0), 'recall': np.float64(1.0), 'f1-score': np.float64(1.0), 'support': np.int64(78)}, 'PRICE': {'precision': np.float64(0.6455696202531646), 'recall': np.float64(0.6986301369863014), 'f1-score': np.float64(0.6710526315789473), 'support': np.int64(73)}, 'Product': {'precision': np.float64(0.0), 'recall': np.float64(0.0), 'f1-score': np.float64(0.0), 'support': np.int64(7)}, 'micro avg': {'precision': np.float64(0.821656050955414), 'recall': np.float64(0.8164556962025317), 'f1-score': np.float64(0.8190476190476191), 'support': np.int64(158)}, 'macro avg': {'precision': np.float64(0.5485232067510548), 'recall': np.float64(0.5662100456621005), 'f1-score': np.float64(0.5570175438596491), 'support': np.int64(158)}, 'weighted avg': {'precision': np.float64(0.7919403941676013), 'recall': np.float64(0.8164556962025317), 'f1-score': np.float64(0.8037141905396402), 'support': np.int64(158)}}\n",
      "2025-07-22 10:51:44,014 - INFO - Evaluation results for distilbert/distilbert-base-multilingual-cased: {'eval_loss': 0.22280624508857727, 'eval_precision': 0.7919403941676013, 'eval_recall': 0.8164556962025317, 'eval_f1': 0.8037141905396402, 'eval_runtime': 0.9904, 'eval_samples_per_second': 40.389, 'eval_steps_per_second': 5.049, 'epoch': 5.0}\n",
      "2025-07-22 10:51:45,186 - INFO - Average inference time per sample for distilbert/distilbert-base-multilingual-cased: 0.0293 seconds\n",
      "2025-07-22 10:52:26,879 - INFO - Saved distilbert/distilbert-base-multilingual-cased to ../models/amharic_ner_distilbert\n"
     ]
    }
   ],
   "source": [
    "# Fine-tune and evaluate each model\n",
    "results = []\n",
    "for model_name, output_dir in models:\n",
    "    logger.info(f\"Starting fine-tuning for {model_name}\")\n",
    "    result = fine_tune_model(model_name, dataset, label2id, id2label, output_dir)\n",
    "    results.append(result)"
   ]
  },
  {
   "cell_type": "code",
   "execution_count": 21,
   "id": "9b641ae7",
   "metadata": {},
   "outputs": [
    {
     "name": "stderr",
     "output_type": "stream",
     "text": [
      "2025-07-22 10:52:44,312 - INFO - Saved model comparison to model_comparison.csv\n"
     ]
    }
   ],
   "source": [
    "# Save comparison results\n",
    "df_results = pd.DataFrame(results)\n",
    "df_results.to_csv(output_comparison_file, index=False, encoding='utf-8')\n",
    "logger.info(f\"Saved model comparison to {output_comparison_file}\")\n"
   ]
  },
  {
   "cell_type": "code",
   "execution_count": 22,
   "id": "d9e504c5",
   "metadata": {},
   "outputs": [
    {
     "name": "stderr",
     "output_type": "stream",
     "text": [
      "2025-07-22 10:52:44,760 - INFO - Best model: Davlan/afro-xlmr-base (F1: 0.9187, Inference Time: 0.5105s)\n"
     ]
    }
   ],
   "source": [
    "# Select best model (highest F1-score, with speed as tiebreaker)\n",
    "best_model = max(results, key=lambda x: (x[\"f1\"], -x[\"inference_time\"]))\n",
    "logger.info(f\"Best model: {best_model['model_name']} (F1: {best_model['f1']:.4f}, Inference Time: {best_model['inference_time']:.4f}s)\")"
   ]
  }
 ],
 "metadata": {
  "kernelspec": {
   "display_name": ".amhenv",
   "language": "python",
   "name": "python3"
  },
  "language_info": {
   "codemirror_mode": {
    "name": "ipython",
    "version": 3
   },
   "file_extension": ".py",
   "mimetype": "text/x-python",
   "name": "python",
   "nbconvert_exporter": "python",
   "pygments_lexer": "ipython3",
   "version": "3.12.10"
  }
 },
 "nbformat": 4,
 "nbformat_minor": 5
}
