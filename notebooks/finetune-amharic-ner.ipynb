{
 "cells": [
  {
   "cell_type": "markdown",
   "id": "b96ceeeb",
   "metadata": {},
   "source": [
    "### Import libraries"
   ]
  },
  {
   "cell_type": "code",
   "execution_count": 1,
   "id": "774a3b70",
   "metadata": {},
   "outputs": [],
   "source": [
    "%load_ext autoreload\n",
    "%autoreload 2"
   ]
  },
  {
   "cell_type": "code",
   "execution_count": 2,
   "id": "87aa6172",
   "metadata": {},
   "outputs": [
    {
     "name": "stderr",
     "output_type": "stream",
     "text": [
      "c:\\Users\\ASTU-PG\\Amharic-ecommerce-data-extractor\\.amhenv\\Lib\\site-packages\\tqdm\\auto.py:21: TqdmWarning: IProgress not found. Please update jupyter and ipywidgets. See https://ipywidgets.readthedocs.io/en/stable/user_install.html\n",
      "  from .autonotebook import tqdm as notebook_tqdm\n"
     ]
    }
   ],
   "source": [
    "import pandas as pd\n",
    "import json\n",
    "import sys\n",
    "import os\n",
    "from datasets import Dataset\n",
    "from transformers import AutoTokenizer, AutoModelForTokenClassification, Trainer, TrainingArguments\n",
    "from transformers.trainer_utils import EvalPrediction\n",
    "from seqeval.metrics import precision_score, recall_score, f1_score\n",
    "import torch"
   ]
  },
  {
   "cell_type": "code",
   "execution_count": 3,
   "id": "3e24c379",
   "metadata": {},
   "outputs": [],
   "source": [
    "sys.path.append(os.path.abspath('../src/'))\n",
    "sys.path.append(os.path.abspath('../scripts/'))"
   ]
  },
  {
   "cell_type": "code",
   "execution_count": 4,
   "id": "f9558220",
   "metadata": {},
   "outputs": [
    {
     "name": "stderr",
     "output_type": "stream",
     "text": [
      "2025-07-21 16:58:35,882 - INFO - Using transformers version: 4.53.2\n",
      "2025-07-21 16:58:35,882 - INFO - Device available: CPU\n"
     ]
    }
   ],
   "source": [
    "from ner_model.finetune_ner_model import load_conll, tokenize_and_align_labels, compute_metrics, logger"
   ]
  },
  {
   "cell_type": "code",
   "execution_count": 5,
   "id": "1a3d870a",
   "metadata": {},
   "outputs": [],
   "source": [
    "# Define paths and model\n",
    "dataset_file = '../conLL/amharic_ner.conll'  # Conll format saved dataset\n",
    "model_name = \"Davlan/afro-xlmr-base\"   # Using afroxmlr for Amharic support\n",
    "output_dir = \"../models/amharic_ner_model\" "
   ]
  },
  {
   "cell_type": "code",
   "execution_count": 6,
   "id": "a52de67c",
   "metadata": {},
   "outputs": [],
   "source": [
    "# Define label mappings (matching Task 2 labels exactly)\n",
    "label2id = {\n",
    "    \"O\": 0,\n",
    "    \"B-Product\": 1,\n",
    "    \"I-Product\": 2,\n",
    "    \"B-PRICE\": 3,\n",
    "    \"I-PRICE\": 4,\n",
    "    \"B-LOC\": 5,\n",
    "    \"I-LOC\": 6\n",
    "}"
   ]
  },
  {
   "cell_type": "code",
   "execution_count": 7,
   "id": "e8bfa59d",
   "metadata": {},
   "outputs": [
    {
     "name": "stderr",
     "output_type": "stream",
     "text": [
      "2025-07-21 16:58:36,622 - INFO - Starting fine-tuning process\n"
     ]
    }
   ],
   "source": [
    "id2label = {v: k for k, v in label2id.items()}\n",
    "\n",
    "        \n",
    "logger.info(\"Starting fine-tuning process\")"
   ]
  },
  {
   "cell_type": "code",
   "execution_count": 8,
   "id": "d96432f0",
   "metadata": {},
   "outputs": [
    {
     "name": "stderr",
     "output_type": "stream",
     "text": [
      "2025-07-21 16:58:37,082 - INFO - Loaded 200 sentences from ../conLL/amharic_ner.conll\n",
      "2025-07-21 16:58:37,082 - INFO - Unique labels in dataset: {'B-LOC', 'I-PRICE', 'I-Product', 'O', 'B-Product', 'B-PRICE'}\n",
      "2025-07-21 16:58:37,082 - INFO - Label counts: {'B-LOC': 398, 'I-PRICE': 343, 'I-Product': 271, 'O': 5099, 'B-Product': 48, 'B-PRICE': 167}\n"
     ]
    }
   ],
   "source": [
    "# Load dataset\n",
    "data = load_conll(dataset_file)\n",
    "# Verify label consistency\n",
    "unique_labels = set(label for sent_labels in data['ner_tags'] for label in sent_labels)\n",
    "missing_labels = unique_labels - set(label2id.keys())\n",
    "if missing_labels:\n",
    "    logger.error(f\"Labels in dataset not in label2id: {missing_labels}\")\n",
    "\n",
    "dataset = Dataset.from_dict(data)\n",
    "        "
   ]
  },
  {
   "cell_type": "code",
   "execution_count": 9,
   "id": "2fa691f9",
   "metadata": {},
   "outputs": [
    {
     "name": "stderr",
     "output_type": "stream",
     "text": [
      "2025-07-21 16:58:38,002 - INFO - Split dataset: 160 train, 40 validation\n"
     ]
    }
   ],
   "source": [
    "# Split dataset\n",
    "train_size = int(0.8 * len(dataset))\n",
    "train_dataset = dataset.select(range(train_size))\n",
    "val_dataset = dataset.select(range(train_size, len(dataset)))\n",
    "logger.info(f\"Split dataset: {len(train_dataset)} train, {len(val_dataset)} validation\")"
   ]
  },
  {
   "cell_type": "code",
   "execution_count": 10,
   "id": "f2bc4fb2",
   "metadata": {},
   "outputs": [
    {
     "name": "stderr",
     "output_type": "stream",
     "text": [
      "Some weights of XLMRobertaForTokenClassification were not initialized from the model checkpoint at Davlan/afro-xlmr-base and are newly initialized: ['classifier.bias', 'classifier.weight']\n",
      "You should probably TRAIN this model on a down-stream task to be able to use it for predictions and inference.\n",
      "2025-07-21 16:58:50,765 - INFO - Loaded model and tokenizer: Davlan/afro-xlmr-base\n"
     ]
    }
   ],
   "source": [
    "# Load tokenizer and model\n",
    "tokenizer = AutoTokenizer.from_pretrained(model_name)\n",
    "model = AutoModelForTokenClassification.from_pretrained(\n",
    "        model_name,\n",
    "        num_labels=len(label2id),\n",
    "        id2label=id2label,\n",
    "        label2id=label2id\n",
    ")\n",
    "logger.info(f\"Loaded model and tokenizer: {model_name}\")"
   ]
  },
  {
   "cell_type": "code",
   "execution_count": 14,
   "id": "9b641ae7",
   "metadata": {},
   "outputs": [
    {
     "name": "stderr",
     "output_type": "stream",
     "text": [
      "Map: 100%|██████████| 160/160 [00:00<00:00, 2709.84 examples/s]\n",
      "Map: 100%|██████████| 40/40 [00:00<00:00, 3196.94 examples/s]\n",
      "2025-07-21 16:59:00,530 - INFO - Tokenized datasets successfully\n"
     ]
    }
   ],
   "source": [
    "# Tokenize datasets\n",
    "tokenized_train = train_dataset.map(\n",
    "    lambda x: tokenize_and_align_labels(x, tokenizer, label2id),\n",
    "    batched=True\n",
    ")\n",
    "tokenized_val = val_dataset.map(\n",
    "    lambda x: tokenize_and_align_labels(x, tokenizer, label2id),\n",
    "    batched=True\n",
    ")\n",
    "logger.info(\"Tokenized datasets successfully\")"
   ]
  },
  {
   "cell_type": "code",
   "execution_count": 15,
   "id": "d9e504c5",
   "metadata": {},
   "outputs": [],
   "source": [
    "# Training arguments\n",
    "training_args = TrainingArguments(\n",
    "    output_dir=output_dir,\n",
    "    eval_strategy=\"epoch\",\n",
    "    save_strategy=\"epoch\",\n",
    "    learning_rate=2e-5,\n",
    "    per_device_train_batch_size=8,  # Reduced for small dataset\n",
    "    per_device_eval_batch_size=8,\n",
    "    num_train_epochs=3,  # Increased to improve training\n",
    "    weight_decay=0.01,\n",
    "    logging_dir='./logs',\n",
    "    logging_steps=10,\n",
    "    load_best_model_at_end=True,\n",
    "    )"
   ]
  },
  {
   "cell_type": "code",
   "execution_count": 16,
   "id": "4e3eb180",
   "metadata": {},
   "outputs": [
    {
     "name": "stderr",
     "output_type": "stream",
     "text": [
      "2025-07-21 16:59:13,949 - INFO - Initialized trainer\n"
     ]
    }
   ],
   "source": [
    "# Initialize trainer\n",
    "trainer = Trainer(\n",
    "    model=model,\n",
    "    args=training_args,\n",
    "    train_dataset=tokenized_train,\n",
    "    eval_dataset=tokenized_val,\n",
    "    compute_metrics=compute_metrics(id2label)\n",
    ")\n",
    "logger.info(\"Initialized trainer\")"
   ]
  },
  {
   "cell_type": "code",
   "execution_count": 17,
   "id": "c9251de8",
   "metadata": {},
   "outputs": [
    {
     "name": "stderr",
     "output_type": "stream",
     "text": [
      "c:\\Users\\ASTU-PG\\Amharic-ecommerce-data-extractor\\.amhenv\\Lib\\site-packages\\torch\\utils\\data\\dataloader.py:665: UserWarning: 'pin_memory' argument is set as true but no accelerator is found, then device pinned memory won't be used.\n",
      "  warnings.warn(warn_msg)\n"
     ]
    },
    {
     "data": {
      "text/html": [
       "\n",
       "    <div>\n",
       "      \n",
       "      <progress value='60' max='60' style='width:300px; height:20px; vertical-align: middle;'></progress>\n",
       "      [60/60 16:43, Epoch 3/3]\n",
       "    </div>\n",
       "    <table border=\"1\" class=\"dataframe\">\n",
       "  <thead>\n",
       " <tr style=\"text-align: left;\">\n",
       "      <th>Epoch</th>\n",
       "      <th>Training Loss</th>\n",
       "      <th>Validation Loss</th>\n",
       "      <th>Precision</th>\n",
       "      <th>Recall</th>\n",
       "      <th>F1</th>\n",
       "    </tr>\n",
       "  </thead>\n",
       "  <tbody>\n",
       "    <tr>\n",
       "      <td>1</td>\n",
       "      <td>0.715300</td>\n",
       "      <td>0.589528</td>\n",
       "      <td>0.000000</td>\n",
       "      <td>0.000000</td>\n",
       "      <td>0.000000</td>\n",
       "    </tr>\n",
       "    <tr>\n",
       "      <td>2</td>\n",
       "      <td>0.453000</td>\n",
       "      <td>0.318186</td>\n",
       "      <td>0.858428</td>\n",
       "      <td>0.873418</td>\n",
       "      <td>0.865772</td>\n",
       "    </tr>\n",
       "    <tr>\n",
       "      <td>3</td>\n",
       "      <td>0.327300</td>\n",
       "      <td>0.237595</td>\n",
       "      <td>0.851741</td>\n",
       "      <td>0.886076</td>\n",
       "      <td>0.868123</td>\n",
       "    </tr>\n",
       "  </tbody>\n",
       "</table><p>"
      ],
      "text/plain": [
       "<IPython.core.display.HTML object>"
      ]
     },
     "metadata": {},
     "output_type": "display_data"
    },
    {
     "name": "stderr",
     "output_type": "stream",
     "text": [
      "2025-07-21 17:05:17,208 - INFO - Evaluation metrics: {'LOC': {'precision': np.float64(0.0), 'recall': np.float64(0.0), 'f1-score': np.float64(0.0), 'support': np.int64(78)}, 'PRICE': {'precision': np.float64(0.0), 'recall': np.float64(0.0), 'f1-score': np.float64(0.0), 'support': np.int64(73)}, 'Product': {'precision': np.float64(0.0), 'recall': np.float64(0.0), 'f1-score': np.float64(0.0), 'support': np.int64(7)}, 'micro avg': {'precision': np.float64(0.0), 'recall': np.float64(0.0), 'f1-score': np.float64(0.0), 'support': np.int64(158)}, 'macro avg': {'precision': np.float64(0.0), 'recall': np.float64(0.0), 'f1-score': np.float64(0.0), 'support': np.int64(158)}, 'weighted avg': {'precision': np.float64(0.0), 'recall': np.float64(0.0), 'f1-score': np.float64(0.0), 'support': np.int64(158)}}\n",
      "c:\\Users\\ASTU-PG\\Amharic-ecommerce-data-extractor\\.amhenv\\Lib\\site-packages\\torch\\utils\\data\\dataloader.py:665: UserWarning: 'pin_memory' argument is set as true but no accelerator is found, then device pinned memory won't be used.\n",
      "  warnings.warn(warn_msg)\n",
      "2025-07-21 17:12:12,707 - INFO - Evaluation metrics: {'LOC': {'precision': np.float64(1.0), 'recall': np.float64(1.0), 'f1-score': np.float64(1.0), 'support': np.int64(78)}, 'PRICE': {'precision': np.float64(0.7894736842105263), 'recall': np.float64(0.821917808219178), 'f1-score': np.float64(0.8053691275167785), 'support': np.int64(73)}, 'Product': {'precision': np.float64(0.0), 'recall': np.float64(0.0), 'f1-score': np.float64(0.0), 'support': np.int64(7)}, 'micro avg': {'precision': np.float64(0.8961038961038961), 'recall': np.float64(0.8734177215189873), 'f1-score': np.float64(0.8846153846153846), 'support': np.int64(158)}, 'macro avg': {'precision': np.float64(0.5964912280701754), 'recall': np.float64(0.6073059360730594), 'f1-score': np.float64(0.6017897091722595), 'support': np.int64(158)}, 'weighted avg': {'precision': np.float64(0.8584277148567623), 'recall': np.float64(0.8734177215189873), 'f1-score': np.float64(0.865771812080537), 'support': np.int64(158)}}\n",
      "c:\\Users\\ASTU-PG\\Amharic-ecommerce-data-extractor\\.amhenv\\Lib\\site-packages\\torch\\utils\\data\\dataloader.py:665: UserWarning: 'pin_memory' argument is set as true but no accelerator is found, then device pinned memory won't be used.\n",
      "  warnings.warn(warn_msg)\n",
      "2025-07-21 17:16:12,720 - INFO - Evaluation metrics: {'LOC': {'precision': np.float64(1.0), 'recall': np.float64(1.0), 'f1-score': np.float64(1.0), 'support': np.int64(78)}, 'PRICE': {'precision': np.float64(0.775), 'recall': np.float64(0.8493150684931506), 'f1-score': np.float64(0.8104575163398693), 'support': np.int64(73)}, 'Product': {'precision': np.float64(0.0), 'recall': np.float64(0.0), 'f1-score': np.float64(0.0), 'support': np.int64(7)}, 'micro avg': {'precision': np.float64(0.8860759493670886), 'recall': np.float64(0.8860759493670886), 'f1-score': np.float64(0.8860759493670886), 'support': np.int64(158)}, 'macro avg': {'precision': np.float64(0.5916666666666667), 'recall': np.float64(0.6164383561643835), 'f1-score': np.float64(0.6034858387799564), 'support': np.int64(158)}, 'weighted avg': {'precision': np.float64(0.8517405063291138), 'recall': np.float64(0.8860759493670886), 'f1-score': np.float64(0.868122776536775), 'support': np.int64(158)}}\n",
      "2025-07-21 17:17:03,616 - INFO - Training completed\n"
     ]
    }
   ],
   "source": [
    "# Train model\n",
    "trainer.train()\n",
    "logger.info(\"Training completed\")"
   ]
  },
  {
   "cell_type": "code",
   "execution_count": 18,
   "id": "fd76a497",
   "metadata": {},
   "outputs": [
    {
     "name": "stderr",
     "output_type": "stream",
     "text": [
      "2025-07-21 17:19:46,386 - INFO - Model and tokenizer saved to ../models/amharic_ner_model\n"
     ]
    }
   ],
   "source": [
    " # Save model\n",
    "trainer.save_model(output_dir)\n",
    "tokenizer.save_pretrained(output_dir)\n",
    "logger.info(f\"Model and tokenizer saved to {output_dir}\")\n",
    "        "
   ]
  }
 ],
 "metadata": {
  "kernelspec": {
   "display_name": ".amhenv",
   "language": "python",
   "name": "python3"
  },
  "language_info": {
   "codemirror_mode": {
    "name": "ipython",
    "version": 3
   },
   "file_extension": ".py",
   "mimetype": "text/x-python",
   "name": "python",
   "nbconvert_exporter": "python",
   "pygments_lexer": "ipython3",
   "version": "3.12.10"
  }
 },
 "nbformat": 4,
 "nbformat_minor": 5
}
