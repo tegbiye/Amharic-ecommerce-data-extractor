{
 "cells": [
  {
   "cell_type": "code",
   "execution_count": 17,
   "id": "261fd58a",
   "metadata": {},
   "outputs": [
    {
     "name": "stdout",
     "output_type": "stream",
     "text": [
      "The autoreload extension is already loaded. To reload it, use:\n",
      "  %reload_ext autoreload\n"
     ]
    }
   ],
   "source": [
    "%load_ext autoreload\n",
    "%autoreload 2"
   ]
  },
  {
   "cell_type": "code",
   "execution_count": 18,
   "id": "4cb43f9a",
   "metadata": {},
   "outputs": [],
   "source": [
    "%reload_ext autoreload"
   ]
  },
  {
   "cell_type": "code",
   "execution_count": 19,
   "id": "79c5aebf",
   "metadata": {},
   "outputs": [],
   "source": [
    "import pandas as pd\n",
    "from datetime import datetime, timedelta\n",
    "import re\n",
    "import sys\n",
    "import os\n",
    "import numpy as np"
   ]
  },
  {
   "cell_type": "code",
   "execution_count": 20,
   "id": "f19229d2",
   "metadata": {},
   "outputs": [],
   "source": [
    "sys.path.append(os.path.abspath('../scripts/'))\n",
    "sys.path.append(os.path.abspath('../src/'))"
   ]
  },
  {
   "cell_type": "code",
   "execution_count": 21,
   "id": "614632fa",
   "metadata": {},
   "outputs": [],
   "source": [
    "from data_loader import load_data\n",
    "from vendor_board.vendor_analytics_board import extract_entities"
   ]
  },
  {
   "cell_type": "code",
   "execution_count": 22,
   "id": "1bfba9df",
   "metadata": {},
   "outputs": [],
   "source": [
    "# Load the CSV file\n",
    "df = load_data('../data/cleaned_message.csv')"
   ]
  },
  {
   "cell_type": "code",
   "execution_count": 23,
   "id": "9bda0e31",
   "metadata": {},
   "outputs": [
    {
     "data": {
      "text/html": [
       "<div>\n",
       "<style scoped>\n",
       "    .dataframe tbody tr th:only-of-type {\n",
       "        vertical-align: middle;\n",
       "    }\n",
       "\n",
       "    .dataframe tbody tr th {\n",
       "        vertical-align: top;\n",
       "    }\n",
       "\n",
       "    .dataframe thead th {\n",
       "        text-align: right;\n",
       "    }\n",
       "</style>\n",
       "<table border=\"1\" class=\"dataframe\">\n",
       "  <thead>\n",
       "    <tr style=\"text-align: right;\">\n",
       "      <th></th>\n",
       "      <th>Unnamed: 0</th>\n",
       "      <th>Channel Title</th>\n",
       "      <th>Channel Username</th>\n",
       "      <th>Message ID</th>\n",
       "      <th>Sender</th>\n",
       "      <th>Date</th>\n",
       "      <th>Message</th>\n",
       "      <th>Media_Path</th>\n",
       "    </tr>\n",
       "  </thead>\n",
       "  <tbody>\n",
       "    <tr>\n",
       "      <th>0</th>\n",
       "      <td>0</td>\n",
       "      <td>Zemen Express®</td>\n",
       "      <td>@ZemenExpress</td>\n",
       "      <td>6982</td>\n",
       "      <td>NaN</td>\n",
       "      <td>2025-06-18 06:01:10+00:00</td>\n",
       "      <td>በኤሌክትሪክ:የሚሰራ ለቤት መልካም መዓዛን የሚሰጥ ዋጋ፦ 1400 ብር ውስ...</td>\n",
       "      <td>[ምስል የለም]</td>\n",
       "    </tr>\n",
       "    <tr>\n",
       "      <th>1</th>\n",
       "      <td>1</td>\n",
       "      <td>Zemen Express®</td>\n",
       "      <td>@ZemenExpress</td>\n",
       "      <td>6981</td>\n",
       "      <td>NaN</td>\n",
       "      <td>2025-06-16 12:21:00+00:00</td>\n",
       "      <td>በፈለጉት አቅጣጫ ልጅዎን በምቾት ማዘል ያስችልዎታል ዋጋ፦ 2400 ብር ው...</td>\n",
       "      <td>[ምስል የለም]</td>\n",
       "    </tr>\n",
       "    <tr>\n",
       "      <th>2</th>\n",
       "      <td>2</td>\n",
       "      <td>Zemen Express®</td>\n",
       "      <td>@ZemenExpress</td>\n",
       "      <td>6980</td>\n",
       "      <td>NaN</td>\n",
       "      <td>2025-06-16 05:11:57+00:00</td>\n",
       "      <td>መልዕክት የለም</td>\n",
       "      <td>data\\photos\\@ZemenExpress_6980.jpg</td>\n",
       "    </tr>\n",
       "    <tr>\n",
       "      <th>3</th>\n",
       "      <td>3</td>\n",
       "      <td>Zemen Express®</td>\n",
       "      <td>@ZemenExpress</td>\n",
       "      <td>6979</td>\n",
       "      <td>NaN</td>\n",
       "      <td>2025-06-16 05:11:57+00:00</td>\n",
       "      <td>መልዕክት የለም</td>\n",
       "      <td>data\\photos\\@ZemenExpress_6979.jpg</td>\n",
       "    </tr>\n",
       "    <tr>\n",
       "      <th>4</th>\n",
       "      <td>4</td>\n",
       "      <td>Zemen Express®</td>\n",
       "      <td>@ZemenExpress</td>\n",
       "      <td>6978</td>\n",
       "      <td>NaN</td>\n",
       "      <td>2025-06-16 05:11:57+00:00</td>\n",
       "      <td>መልዕክት የለም</td>\n",
       "      <td>data\\photos\\@ZemenExpress_6978.jpg</td>\n",
       "    </tr>\n",
       "  </tbody>\n",
       "</table>\n",
       "</div>"
      ],
      "text/plain": [
       "   Unnamed: 0   Channel Title Channel Username  Message ID  Sender  \\\n",
       "0           0  Zemen Express®    @ZemenExpress        6982     NaN   \n",
       "1           1  Zemen Express®    @ZemenExpress        6981     NaN   \n",
       "2           2  Zemen Express®    @ZemenExpress        6980     NaN   \n",
       "3           3  Zemen Express®    @ZemenExpress        6979     NaN   \n",
       "4           4  Zemen Express®    @ZemenExpress        6978     NaN   \n",
       "\n",
       "                        Date  \\\n",
       "0  2025-06-18 06:01:10+00:00   \n",
       "1  2025-06-16 12:21:00+00:00   \n",
       "2  2025-06-16 05:11:57+00:00   \n",
       "3  2025-06-16 05:11:57+00:00   \n",
       "4  2025-06-16 05:11:57+00:00   \n",
       "\n",
       "                                             Message  \\\n",
       "0  በኤሌክትሪክ:የሚሰራ ለቤት መልካም መዓዛን የሚሰጥ ዋጋ፦ 1400 ብር ውስ...   \n",
       "1  በፈለጉት አቅጣጫ ልጅዎን በምቾት ማዘል ያስችልዎታል ዋጋ፦ 2400 ብር ው...   \n",
       "2                                          መልዕክት የለም   \n",
       "3                                          መልዕክት የለም   \n",
       "4                                          መልዕክት የለም   \n",
       "\n",
       "                           Media_Path  \n",
       "0                           [ምስል የለም]  \n",
       "1                           [ምስል የለም]  \n",
       "2  data\\photos\\@ZemenExpress_6980.jpg  \n",
       "3  data\\photos\\@ZemenExpress_6979.jpg  \n",
       "4  data\\photos\\@ZemenExpress_6978.jpg  "
      ]
     },
     "execution_count": 23,
     "metadata": {},
     "output_type": "execute_result"
    }
   ],
   "source": [
    "df.head()"
   ]
  },
  {
   "cell_type": "code",
   "execution_count": null,
   "id": "163e1dd6",
   "metadata": {},
   "outputs": [],
   "source": [
    "# Preprocess data\n",
    "df[\"Date\"] = pd.to_datetime(df[\"Date\"])\n",
    "df = df[df[\"Message\"].notnull() & (df[\"Message\"] != \"\")]  # Remove empty messages\n",
    "df = df[~df[\"Message\"].str.contains(\"ሱቅ መተው|እንኳን ለኢድ\")]  # Exclude non-product posts\n",
    "\n",
    "np.random.seed(42)\n",
    "df[\"Views\"] = np.random.randint(100, 1000, size=len(df))"
   ]
  },
  {
   "cell_type": "code",
   "execution_count": 25,
   "id": "5b4b1abb",
   "metadata": {},
   "outputs": [],
   "source": [
    "# Apply NER to extract prices and products\n",
    "df[[\"Price\", \"Product\"]] = df[\"Message\"].apply(lambda x: pd.Series(extract_entities(x)))\n",
    "\n",
    "# Filter posts with valid prices\n",
    "df = df[df[\"Price\"].notnull()]\n",
    "\n",
    "# Define analysis period\n",
    "start_date = df[\"Date\"].min()\n",
    "end_date = df[\"Date\"].max()\n",
    "weeks = (end_date - start_date).days / 7 if (end_date - start_date).days > 0 else 1"
   ]
  },
  {
   "cell_type": "code",
   "execution_count": 26,
   "id": "cca36bea",
   "metadata": {},
   "outputs": [
    {
     "name": "stdout",
     "output_type": "stream",
     "text": [
      "<class 'pandas.core.frame.DataFrame'>\n",
      "Index: 8979 entries, 0 to 36328\n",
      "Data columns (total 11 columns):\n",
      " #   Column            Non-Null Count  Dtype              \n",
      "---  ------            --------------  -----              \n",
      " 0   Unnamed: 0        8979 non-null   int64              \n",
      " 1   Channel Title     8979 non-null   object             \n",
      " 2   Channel Username  8979 non-null   object             \n",
      " 3   Message ID        8979 non-null   int64              \n",
      " 4   Sender            0 non-null      float64            \n",
      " 5   Date              8979 non-null   datetime64[ns, UTC]\n",
      " 6   Message           8979 non-null   object             \n",
      " 7   Media_Path        8979 non-null   object             \n",
      " 8   Views             8979 non-null   int32              \n",
      " 9   Price             8979 non-null   float64            \n",
      " 10  Product           8617 non-null   object             \n",
      "dtypes: datetime64[ns, UTC](1), float64(2), int32(1), int64(2), object(5)\n",
      "memory usage: 806.7+ KB\n"
     ]
    }
   ],
   "source": [
    "df.info()"
   ]
  },
  {
   "cell_type": "code",
   "execution_count": 27,
   "id": "02c16441",
   "metadata": {},
   "outputs": [],
   "source": [
    "# Initialize results\n",
    "vendor_metrics = []\n",
    "\n",
    "# Process each vendor\n",
    "for vendor in df[\"Channel Username\"].unique():\n",
    "    vendor_data = df[df[\"Channel Username\"] == vendor]\n",
    "    \n",
    "    # Posting Frequency: Posts per week\n",
    "    posts_count = len(vendor_data)\n",
    "    posting_frequency = posts_count / weeks\n",
    "    \n",
    "    # Average Views per Post\n",
    "    avg_views = vendor_data[\"Views\"].mean()\n",
    "    \n",
    "    # Top Performing Post\n",
    "    top_post = vendor_data.loc[vendor_data[\"Views\"].idxmax()]\n",
    "    top_post_views = top_post[\"Views\"]\n",
    "    top_post_product = top_post[\"Product\"] if pd.notnull(top_post[\"Product\"]) else \"Unknown\"\n",
    "    top_post_price = top_post[\"Price\"] if pd.notnull(top_post[\"Price\"]) else 0\n",
    "    top_post_id = top_post[\"Message ID\"]\n",
    "    \n",
    "    # Average Price Point\n",
    "    avg_price = vendor_data[\"Price\"].mean()\n",
    "    \n",
    "    # Lending Score: Normalize views and frequency\n",
    "    max_views = df[\"Views\"].max()\n",
    "    max_frequency = df.groupby(\"Channel Username\").size().max() / weeks\n",
    "    normalized_views = avg_views / max_views if max_views > 0 else 0\n",
    "    normalized_frequency = posting_frequency / max_frequency if max_frequency > 0 else 0\n",
    "    lending_score = (normalized_views * 0.5) + (normalized_frequency * 0.5)\n",
    "    \n",
    "    # Store metrics\n",
    "    vendor_metrics.append({\n",
    "        \"Vendor\": vendor,\n",
    "        \"Avg Views/Post\": round(avg_views, 2),\n",
    "        \"Posts/Week\": round(posting_frequency, 2),\n",
    "        \"Avg Price (ETB)\": round(avg_price, 2),\n",
    "        \"Lending Score\": round(lending_score, 2),\n",
    "        \"Top Post Product\": top_post_product,\n",
    "        \"Top Post Price (ETB)\": top_post_price,\n",
    "        \"Top Post Views\": top_post_views,\n",
    "        \"Top Post ID\": top_post_id\n",
    "    })"
   ]
  },
  {
   "cell_type": "code",
   "execution_count": 28,
   "id": "070350e1",
   "metadata": {},
   "outputs": [
    {
     "name": "stdout",
     "output_type": "stream",
     "text": [
      "Top Performing Posts:\n",
      "@ZemenExpress: Product = : 385ml, Price = 450.0 ETB, Views = 999, Message ID = 6779\n",
      "@nevacomputer: Product = የብረቱ ላፕቶፕ ጭን ላይ አስቀምጠው መጠቀም ለከፋ ጉዳት እንደሚያጋልጥ የጤና ባለሙያዎች ይናገራሉ ፤ እንዲሁም ቴብል ላይ አድርገዉ ሲጠቀሙ ፋኑ ስለሚደፈን ከፍተኛ ሙቀት በመፍጠር ድምፅ ያሰማል። ለዚህ ሁሉ መፍትሄ ተጣጣፊ የላፕቶፕ ፣ ታብሌት በተመጣጣኝ ዋጋ ገዝተዉ የእርስዎንና የላፕቶፕዎን ጤንነት ይጠብቁ።, Price = 1300.0 ETB, Views = 961, Message ID = 6568\n",
      "@qnashcom: Product = 50mm 15, Price = 650.0 ETB, Views = 997, Message ID = 2536\n",
      "@gebeyaadama: Product = ለተሰነጣጠቀ ለደረቅ ተረከዝ ሞረድ እና ማለስለሻ, Price = 750.0 ETB, Views = 998, Message ID = 3188\n",
      "@Shageronlinestore: Product = , Price = 200.0 ETB, Views = 999, Message ID = 3725\n"
     ]
    }
   ],
   "source": [
    "# Create results DataFrame\n",
    "results_df = pd.DataFrame(vendor_metrics)\n",
    "\n",
    "# Generate Vendor Scorecard as markdown table\n",
    "scorecard = \"# Vendor Scorecard\\n\\n\"\n",
    "scorecard += \"| Vendor | Avg Views/Post | Posts/Week | Avg Price (ETB) | Lending Score |\\n\"\n",
    "scorecard += \"|--------|----------------|------------|-----------------|---------------|\\n\"\n",
    "for _, row in results_df.iterrows():\n",
    "    scorecard += f\"| {row['Vendor']} | {row['Avg Views/Post']} | {row['Posts/Week']} | {row['Avg Price (ETB)']} | {row['Lending Score']} |\\n\"\n",
    "\n",
    "# Save scorecard to file\n",
    "with open(\"../data/vendor_scorecard.md\", \"w\", encoding=\"utf-8\") as f:\n",
    "    f.write(scorecard)\n",
    "\n",
    "# Print top post details\n",
    "print(\"Top Performing Posts:\")\n",
    "for _, row in results_df.iterrows():\n",
    "    print(f\"{row['Vendor']}: Product = {row['Top Post Product']}, Price = {row['Top Post Price (ETB)']} ETB, Views = {row['Top Post Views']}, Message ID = {row['Top Post ID']}\")\n",
    "\n",
    "# Save full results to CSV\n",
    "results_df.to_csv(\"../data/vendor_metrics.csv\", index=False)"
   ]
  }
 ],
 "metadata": {
  "kernelspec": {
   "display_name": ".amhenv",
   "language": "python",
   "name": "python3"
  },
  "language_info": {
   "codemirror_mode": {
    "name": "ipython",
    "version": 3
   },
   "file_extension": ".py",
   "mimetype": "text/x-python",
   "name": "python",
   "nbconvert_exporter": "python",
   "pygments_lexer": "ipython3",
   "version": "3.12.10"
  }
 },
 "nbformat": 4,
 "nbformat_minor": 5
}
