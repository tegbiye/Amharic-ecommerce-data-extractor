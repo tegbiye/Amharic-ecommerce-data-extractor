{
 "cells": [
  {
   "cell_type": "markdown",
   "id": "2dc65c08",
   "metadata": {},
   "source": [
    "#### Import Libraries"
   ]
  },
  {
   "cell_type": "code",
   "execution_count": 11,
   "id": "0ba0510e",
   "metadata": {},
   "outputs": [
    {
     "name": "stdout",
     "output_type": "stream",
     "text": [
      "The autoreload extension is already loaded. To reload it, use:\n",
      "  %reload_ext autoreload\n"
     ]
    }
   ],
   "source": [
    "%load_ext autoreload\n",
    "%autoreload 2"
   ]
  },
  {
   "cell_type": "code",
   "execution_count": 12,
   "id": "19573043",
   "metadata": {},
   "outputs": [],
   "source": [
    "import pandas as pd\n",
    "import json\n",
    "import sys\n",
    "import os\n",
    "import logging"
   ]
  },
  {
   "cell_type": "code",
   "execution_count": 13,
   "id": "5eeada97",
   "metadata": {},
   "outputs": [],
   "source": [
    "sys.path.append(os.path.abspath('../src/'))\n",
    "sys.path.append(os.path.abspath('../scripts/'))"
   ]
  },
  {
   "cell_type": "code",
   "execution_count": 14,
   "id": "9b5e2e3e",
   "metadata": {},
   "outputs": [],
   "source": [
    "from labeling.label_conll_amharic import load_dataset, save_conll"
   ]
  },
  {
   "cell_type": "code",
   "execution_count": 15,
   "id": "18d62a2e",
   "metadata": {},
   "outputs": [],
   "source": [
    "# Path to the provided dataset\n",
    "dataset_file = \"../data/cleaned_message.csv\"\n",
    "output_file = \"../conLL/amharic_ner.conll\""
   ]
  },
  {
   "cell_type": "code",
   "execution_count": 16,
   "id": "3ea45d2b",
   "metadata": {},
   "outputs": [
    {
     "name": "stderr",
     "output_type": "stream",
     "text": [
      "2025-07-21 10:47:46,017 - INFO - Loaded dataset from ../data/cleaned_message.csv, shape: (36330, 8)\n",
      "2025-07-21 10:47:46,024 - INFO - Filtered 22356 valid messages from dataset\n"
     ]
    }
   ],
   "source": [
    "# Load messages\n",
    "messages = load_dataset(dataset_file)\n"
   ]
  },
  {
   "cell_type": "code",
   "execution_count": 17,
   "id": "1f6c17a7",
   "metadata": {},
   "outputs": [
    {
     "name": "stderr",
     "output_type": "stream",
     "text": [
      "2025-07-21 10:47:48,112 - INFO - Processing message 1/50\n",
      "2025-07-21 10:47:48,112 - INFO - Processing message 2/50\n",
      "2025-07-21 10:47:48,119 - INFO - Processing message 3/50\n",
      "2025-07-21 10:47:48,119 - INFO - Processing message 4/50\n",
      "2025-07-21 10:47:48,119 - INFO - Processing message 5/50\n",
      "2025-07-21 10:47:48,124 - INFO - Processing message 6/50\n",
      "2025-07-21 10:47:48,124 - INFO - Processing message 7/50\n",
      "2025-07-21 10:47:48,124 - INFO - Processing message 8/50\n",
      "2025-07-21 10:47:48,128 - INFO - Processing message 9/50\n",
      "2025-07-21 10:47:48,129 - INFO - Processing message 10/50\n",
      "2025-07-21 10:47:48,129 - INFO - Processing message 11/50\n",
      "2025-07-21 10:47:48,129 - INFO - Processing message 12/50\n",
      "2025-07-21 10:47:48,134 - INFO - Processing message 13/50\n",
      "2025-07-21 10:47:48,134 - INFO - Processing message 14/50\n",
      "2025-07-21 10:47:48,134 - INFO - Processing message 15/50\n",
      "2025-07-21 10:47:48,139 - INFO - Processing message 16/50\n",
      "2025-07-21 10:47:48,140 - INFO - Processing message 17/50\n",
      "2025-07-21 10:47:48,142 - INFO - Processing message 18/50\n",
      "2025-07-21 10:47:48,144 - INFO - Processing message 19/50\n",
      "2025-07-21 10:47:48,146 - INFO - Processing message 20/50\n",
      "2025-07-21 10:47:48,149 - INFO - Processing message 21/50\n",
      "2025-07-21 10:47:48,151 - INFO - Processing message 22/50\n",
      "2025-07-21 10:47:48,153 - INFO - Processing message 23/50\n",
      "2025-07-21 10:47:48,154 - INFO - Processing message 24/50\n",
      "2025-07-21 10:47:48,156 - INFO - Processing message 25/50\n",
      "2025-07-21 10:47:48,158 - INFO - Processing message 26/50\n",
      "2025-07-21 10:47:48,159 - INFO - Processing message 27/50\n",
      "2025-07-21 10:47:48,161 - INFO - Processing message 28/50\n",
      "2025-07-21 10:47:48,163 - INFO - Processing message 29/50\n",
      "2025-07-21 10:47:48,163 - INFO - Processing message 30/50\n",
      "2025-07-21 10:47:48,163 - INFO - Processing message 31/50\n",
      "2025-07-21 10:47:48,169 - INFO - Processing message 32/50\n",
      "2025-07-21 10:47:48,169 - INFO - Processing message 33/50\n",
      "2025-07-21 10:47:48,169 - INFO - Processing message 34/50\n",
      "2025-07-21 10:47:48,174 - INFO - Processing message 35/50\n",
      "2025-07-21 10:47:48,175 - INFO - Processing message 36/50\n",
      "2025-07-21 10:47:48,175 - INFO - Processing message 37/50\n",
      "2025-07-21 10:47:48,175 - INFO - Processing message 38/50\n",
      "2025-07-21 10:47:48,179 - INFO - Processing message 39/50\n",
      "2025-07-21 10:47:48,179 - INFO - Processing message 40/50\n",
      "2025-07-21 10:47:48,185 - INFO - Processing message 41/50\n",
      "2025-07-21 10:47:48,185 - INFO - Processing message 42/50\n",
      "2025-07-21 10:47:48,188 - INFO - Processing message 43/50\n",
      "2025-07-21 10:47:48,188 - INFO - Processing message 44/50\n",
      "2025-07-21 10:47:48,188 - INFO - Processing message 45/50\n",
      "2025-07-21 10:47:48,193 - INFO - Processing message 46/50\n",
      "2025-07-21 10:47:48,195 - INFO - Processing message 47/50\n",
      "2025-07-21 10:47:48,198 - INFO - Processing message 48/50\n",
      "2025-07-21 10:47:48,199 - INFO - Processing message 49/50\n",
      "2025-07-21 10:47:48,199 - INFO - Processing message 50/50\n",
      "2025-07-21 10:47:48,199 - INFO - Labeled dataset saved to ../conLL/amharic_ner.conll\n"
     ]
    }
   ],
   "source": [
    "# Label and save up to 50 messages\n",
    "save_conll(messages, output_file, max_messages=50)"
   ]
  }
 ],
 "metadata": {
  "kernelspec": {
   "display_name": ".amhenv",
   "language": "python",
   "name": "python3"
  },
  "language_info": {
   "codemirror_mode": {
    "name": "ipython",
    "version": 3
   },
   "file_extension": ".py",
   "mimetype": "text/x-python",
   "name": "python",
   "nbconvert_exporter": "python",
   "pygments_lexer": "ipython3",
   "version": "3.12.10"
  }
 },
 "nbformat": 4,
 "nbformat_minor": 5
}
