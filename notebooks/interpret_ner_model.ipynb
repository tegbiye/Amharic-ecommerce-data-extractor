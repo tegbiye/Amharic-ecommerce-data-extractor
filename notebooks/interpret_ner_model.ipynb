{
 "cells": [
  {
   "cell_type": "markdown",
   "id": "b96ceeeb",
   "metadata": {},
   "source": [
    "### Import libraries"
   ]
  },
  {
   "cell_type": "code",
   "execution_count": 1,
   "id": "774a3b70",
   "metadata": {},
   "outputs": [],
   "source": [
    "%load_ext autoreload\n",
    "%autoreload 2"
   ]
  },
  {
   "cell_type": "code",
   "execution_count": 2,
   "id": "87aa6172",
   "metadata": {},
   "outputs": [
    {
     "name": "stderr",
     "output_type": "stream",
     "text": [
      "c:\\Users\\ASTU-PG\\Amharic-ecommerce-data-extractor\\.amhenv\\Lib\\site-packages\\tqdm\\auto.py:21: TqdmWarning: IProgress not found. Please update jupyter and ipywidgets. See https://ipywidgets.readthedocs.io/en/stable/user_install.html\n",
      "  from .autonotebook import tqdm as notebook_tqdm\n"
     ]
    }
   ],
   "source": [
    "import pandas as pd\n",
    "import json\n",
    "import sys\n",
    "import os\n",
    "from datasets import Dataset\n",
    "from transformers import AutoTokenizer, AutoModelForTokenClassification, Trainer, TrainingArguments\n",
    "from transformers.trainer_utils import EvalPrediction\n",
    "from seqeval.metrics import classification_report\n",
    "import shap\n",
    "import lime.lime_text\n",
    "from nltk.tokenize import word_tokenize\n",
    "import nltk\n",
    "import torch\n",
    "import numpy as np"
   ]
  },
  {
   "cell_type": "code",
   "execution_count": 3,
   "id": "3e24c379",
   "metadata": {},
   "outputs": [],
   "source": [
    "sys.path.append(os.path.abspath('../src/'))\n",
    "sys.path.append(os.path.abspath('../scripts/'))"
   ]
  },
  {
   "cell_type": "code",
   "execution_count": 4,
   "id": "f9558220",
   "metadata": {},
   "outputs": [
    {
     "name": "stderr",
     "output_type": "stream",
     "text": [
      "2025-07-22 18:56:05,023 - INFO - NLTK punkt tokenizer downloaded successfully\n"
     ]
    }
   ],
   "source": [
    "from interpret.interpret_ner_models import load_conll, logger, load_unlabeled_messages, apply_shap, apply_lime, predict_entities"
   ]
  },
  {
   "cell_type": "code",
   "execution_count": 5,
   "id": "1a3d870a",
   "metadata": {},
   "outputs": [],
   "source": [
    "# Define paths and model\n",
    "conll_file = '../conLL/amharic_ner.conll'\n",
    "messages_file = '../data/cleaned_message.csv'\n",
    "model_dir = '../models/amharic_ner_xlmr'\n",
    "output_file = '../data/interpretability_results.csv'\n",
    "report_file = '../Task5_Interpretability_Report.md'"
   ]
  },
  {
   "cell_type": "code",
   "execution_count": 6,
   "id": "a52de67c",
   "metadata": {},
   "outputs": [
    {
     "name": "stderr",
     "output_type": "stream",
     "text": [
      "2025-07-22 18:56:05,574 - INFO - Label mappings: {'O': 0, 'B-Product': 1, 'I-Product': 2, 'B-PRICE': 3, 'I-PRICE': 4, 'B-LOC': 5, 'I-LOC': 6}\n"
     ]
    }
   ],
   "source": [
    "# Label mappings\n",
    "label2id = {\n",
    "    \"O\": 0,\n",
    "    \"B-Product\": 1,\n",
    "    \"I-Product\": 2,\n",
    "    \"B-PRICE\": 3,\n",
    "    \"I-PRICE\": 4,\n",
    "    \"B-LOC\": 5,\n",
    "    \"I-LOC\": 6\n",
    "}\n",
    "\n",
    "id2label = {v: k for k, v in label2id.items()}\n",
    "logger.info(f\"Label mappings: {label2id}\")"
   ]
  },
  {
   "cell_type": "code",
   "execution_count": 7,
   "id": "d96432f0",
   "metadata": {},
   "outputs": [
    {
     "name": "stderr",
     "output_type": "stream",
     "text": [
      "2025-07-22 18:56:07,650 - INFO - Loaded model and tokenizer from ../models/amharic_ner_xlmr, using device: cpu\n"
     ]
    }
   ],
   "source": [
    "# Load model and tokenizer\n",
    "tokenizer = AutoTokenizer.from_pretrained(model_dir)\n",
    "model = AutoModelForTokenClassification.from_pretrained(model_dir)\n",
    "device = torch.device(\"cuda\" if torch.cuda.is_available() else \"cpu\")\n",
    "model.to(device)\n",
    "logger.info(f\"Loaded model and tokenizer from {model_dir}, using device: {device}\")"
   ]
  },
  {
   "cell_type": "code",
   "execution_count": 8,
   "id": "2fa691f9",
   "metadata": {},
   "outputs": [
    {
     "name": "stderr",
     "output_type": "stream",
     "text": [
      "2025-07-22 18:56:08,284 - INFO - Loaded 200 sentences from ../conLL/amharic_ner.conll\n",
      "2025-07-22 18:56:08,284 - INFO - Unique labels: {'O', 'B-LOC', 'I-Product', 'B-PRICE', 'I-PRICE', 'B-Product'}\n",
      "2025-07-22 18:56:08,715 - INFO - Loaded 50 new messages from ../data/cleaned_message.csv\n",
      "2025-07-22 18:56:08,723 - INFO - Validation set size: 40\n"
     ]
    }
   ],
   "source": [
    "# Load datasets\n",
    "dataset = load_conll(conll_file)\n",
    "val_dataset = dataset.select(range(int(0.8 * len(dataset)), len(dataset)))\n",
    "messages = load_unlabeled_messages(messages_file)\n",
    "logger.info(f\"Validation set size: {len(val_dataset)}\")"
   ]
  },
  {
   "cell_type": "code",
   "execution_count": 9,
   "id": "9b641ae7",
   "metadata": {},
   "outputs": [
    {
     "name": "stderr",
     "output_type": "stream",
     "text": [
      "2025-07-22 18:56:16,669 - ERROR - Error in SHAP explanation for message: 360 100 ዋጋ፦ 300 ብር ውስን ፍሬ ነው ያለው አድራሻ ቢሮ ቁ S05S06 ...: tuple index out of range\n",
      "2025-07-22 18:57:52,883 - INFO - Computed LIME explanation for message: 360 100 ዋጋ፦ 300 ብር ውስን ፍሬ ነው ያለው አድራሻ ቢሮ ቁ S05S06 ...\n",
      "2025-07-22 18:57:52,884 - INFO - Processed validation example 1/40\n",
      "2025-07-22 18:57:53,277 - ERROR - Error in SHAP explanation for message: 360 100 ዋጋ፦ 300 ብር ውስን ፍሬ ነው ያለው አድራሻ ቢሮ ቁ S05S06 ...: tuple index out of range\n",
      "2025-07-22 18:59:14,613 - INFO - Computed LIME explanation for message: 360 100 ዋጋ፦ 300 ብር ውስን ፍሬ ነው ያለው አድራሻ ቢሮ ቁ S05S06 ...\n",
      "2025-07-22 18:59:14,615 - INFO - Processed validation example 2/40\n",
      "2025-07-22 18:59:15,301 - ERROR - Error in SHAP explanation for message: ዋጋ፦ 250 ብር ውስን ፍሬ ነው ያለው አድራሻ ቢሮ ቁ S05S06 09026607...: tuple index out of range\n",
      "2025-07-22 19:00:38,197 - INFO - Computed LIME explanation for message: ዋጋ፦ 250 ብር ውስን ፍሬ ነው ያለው አድራሻ ቢሮ ቁ S05S06 09026607...\n",
      "2025-07-22 19:00:38,198 - INFO - Processed validation example 3/40\n",
      "2025-07-22 19:00:38,591 - ERROR - Error in SHAP explanation for message: ዋጋ፦ 250 ብር ውስን ፍሬ ነው ያለው አድራሻ ቢሮ ቁ S05S06 09026607...: tuple index out of range\n",
      "2025-07-22 19:01:57,785 - INFO - Computed LIME explanation for message: ዋጋ፦ 250 ብር ውስን ፍሬ ነው ያለው አድራሻ ቢሮ ቁ S05S06 09026607...\n",
      "2025-07-22 19:01:57,786 - INFO - Processed validation example 4/40\n",
      "2025-07-22 19:01:58,279 - ERROR - Error in SHAP explanation for message: የሙቀት መቆጣጠሪያ ያለው ሴራሚክ ፕሌት ዋጋ፦ 1200 ብር ውስን ፍሬ ነው ያለው...: tuple index out of range\n",
      "2025-07-22 19:03:12,396 - INFO - Computed LIME explanation for message: የሙቀት መቆጣጠሪያ ያለው ሴራሚክ ፕሌት ዋጋ፦ 1200 ብር ውስን ፍሬ ነው ያለው...\n",
      "2025-07-22 19:03:12,397 - INFO - Processed validation example 5/40\n",
      "2025-07-22 19:03:12,948 - INFO - Processed validation example 6/40\n",
      "2025-07-22 19:03:13,343 - INFO - Processed validation example 7/40\n",
      "2025-07-22 19:03:13,723 - INFO - Processed validation example 8/40\n",
      "2025-07-22 19:03:15,289 - INFO - Processed validation example 9/40\n",
      "2025-07-22 19:03:15,645 - INFO - Processed validation example 10/40\n",
      "2025-07-22 19:03:15,950 - INFO - Processed validation example 11/40\n",
      "2025-07-22 19:03:16,324 - INFO - Processed validation example 12/40\n",
      "2025-07-22 19:03:16,650 - INFO - Processed validation example 13/40\n",
      "2025-07-22 19:03:17,079 - INFO - Processed validation example 14/40\n",
      "2025-07-22 19:03:18,272 - INFO - Processed validation example 15/40\n",
      "2025-07-22 19:03:18,655 - INFO - Processed validation example 16/40\n",
      "2025-07-22 19:03:21,617 - INFO - Processed validation example 17/40\n",
      "2025-07-22 19:03:22,499 - INFO - Processed validation example 18/40\n",
      "2025-07-22 19:03:23,330 - INFO - Processed validation example 19/40\n",
      "2025-07-22 19:03:23,664 - INFO - Processed validation example 20/40\n",
      "2025-07-22 19:03:24,008 - INFO - Processed validation example 21/40\n",
      "2025-07-22 19:03:24,461 - INFO - Processed validation example 22/40\n",
      "2025-07-22 19:03:25,754 - INFO - Processed validation example 23/40\n",
      "2025-07-22 19:03:26,087 - INFO - Processed validation example 24/40\n",
      "2025-07-22 19:03:26,746 - INFO - Processed validation example 25/40\n",
      "2025-07-22 19:03:27,119 - INFO - Processed validation example 26/40\n",
      "2025-07-22 19:03:27,615 - INFO - Processed validation example 27/40\n",
      "2025-07-22 19:03:28,841 - INFO - Processed validation example 28/40\n",
      "2025-07-22 19:03:30,289 - INFO - Processed validation example 29/40\n",
      "2025-07-22 19:03:31,476 - INFO - Processed validation example 30/40\n",
      "2025-07-22 19:03:32,344 - INFO - Processed validation example 31/40\n",
      "2025-07-22 19:03:33,260 - INFO - Processed validation example 32/40\n",
      "2025-07-22 19:03:33,620 - INFO - Processed validation example 33/40\n",
      "2025-07-22 19:03:33,948 - INFO - Processed validation example 34/40\n",
      "2025-07-22 19:03:35,928 - INFO - Processed validation example 35/40\n",
      "2025-07-22 19:03:36,341 - INFO - Processed validation example 36/40\n",
      "2025-07-22 19:03:36,728 - INFO - Processed validation example 37/40\n",
      "2025-07-22 19:03:37,688 - INFO - Processed validation example 38/40\n",
      "2025-07-22 19:03:38,056 - INFO - Processed validation example 39/40\n",
      "2025-07-22 19:03:38,463 - INFO - Processed validation example 40/40\n"
     ]
    }
   ],
   "source": [
    "# Analyze validation set and new messages\n",
    "results = []\n",
    "difficult_cases = []\n",
    "for idx, example in enumerate(val_dataset):\n",
    "    message = \" \".join(example['tokens'])\n",
    "    true_labels = example['ner_tags']\n",
    "    tokens, pred_labels, logits = predict_entities(message, tokenizer, model, id2label, device)\n",
    "            \n",
    "    max_logits = np.max(logits, axis=1) if len(logits) > 0 and len(logits[0]) > 0 else np.array([])\n",
    "    low_confidence = np.any(max_logits < 0.9) if max_logits.size > 0 else False\n",
    "            \n",
    "    mismatch = False\n",
    "    if len(pred_labels) == len(true_labels):\n",
    "        for p_label, t_label in zip(pred_labels, true_labels):\n",
    "            if p_label != t_label:\n",
    "                mismatch = True\n",
    "                break\n",
    "    else:\n",
    "        mismatch = True\n",
    "\n",
    "    if mismatch or low_confidence:\n",
    "        difficult_cases.append({\n",
    "            \"message\": message,\n",
    "            \"true_labels\": true_labels,\n",
    "            \"pred_labels\": pred_labels,\n",
    "            \"logits\": max_logits.tolist() if max_logits.size > 0 else []\n",
    "        })\n",
    "\n",
    "    if idx < 5:\n",
    "        shap_values = apply_shap(message, tokenizer, model, id2label, device)\n",
    "        lime_weights = apply_lime(message, tokenizer, model, id2label, device)\n",
    "    else:\n",
    "        shap_values = []\n",
    "        lime_weights = []\n",
    "\n",
    "    results.append({\n",
    "        \"message\": message,\n",
    "        \"true_labels\": \", \".join(true_labels),\n",
    "        \"pred_labels\": \", \".join(pred_labels),\n",
    "        \"shap_values\": str(shap_values),\n",
    "        \"lime_weights\": str(lime_weights)\n",
    "    })\n",
    "    logger.info(f\"Processed validation example {idx + 1}/{len(val_dataset)}\")"
   ]
  },
  {
   "cell_type": "code",
   "execution_count": 10,
   "id": "d9e504c5",
   "metadata": {},
   "outputs": [
    {
     "name": "stderr",
     "output_type": "stream",
     "text": [
      "2025-07-22 19:03:53,147 - ERROR - Error in SHAP explanation for message: የሞተ ቆዳን እንዲሁም ቆሻሻን ለማፅዳት ተመራጭ ዋጋ፦ 200 ብር ውስን ፍሬ ነው...: tuple index out of range\n",
      "2025-07-22 19:05:13,859 - INFO - Computed LIME explanation for message: የሞተ ቆዳን እንዲሁም ቆሻሻን ለማፅዳት ተመራጭ ዋጋ፦ 200 ብር ውስን ፍሬ ነው...\n",
      "2025-07-22 19:05:13,859 - INFO - Processed new message 1/50\n",
      "2025-07-22 19:05:14,252 - ERROR - Error in SHAP explanation for message: የሞተ ቆዳን እንዲሁም ቆሻሻን ለማፅዳት ተመራጭ ዋጋ፦ 200 ብር ውስን ፍሬ ነው...: tuple index out of range\n",
      "2025-07-22 19:06:36,324 - INFO - Computed LIME explanation for message: የሞተ ቆዳን እንዲሁም ቆሻሻን ለማፅዳት ተመራጭ ዋጋ፦ 200 ብር ውስን ፍሬ ነው...\n",
      "2025-07-22 19:06:36,325 - INFO - Processed new message 2/50\n",
      "2025-07-22 19:06:37,041 - ERROR - Error in SHAP explanation for message: 3 ተቀያያሪ ብርሀን ያለው በቻርጅ የሚሰራ ዋጋ፦ 1600 ብር ውስን ፍሬ ነው ያ...: tuple index out of range\n",
      "2025-07-22 19:07:55,030 - INFO - Computed LIME explanation for message: 3 ተቀያያሪ ብርሀን ያለው በቻርጅ የሚሰራ ዋጋ፦ 1600 ብር ውስን ፍሬ ነው ያ...\n",
      "2025-07-22 19:07:55,033 - INFO - Processed new message 3/50\n",
      "2025-07-22 19:07:55,448 - ERROR - Error in SHAP explanation for message: ዋጋ፦ 250 ብር ውስን ፍሬ ነው ያለው አድራሻ ቢሮ ቁ S05S06 09026607...: tuple index out of range\n",
      "2025-07-22 19:09:17,139 - INFO - Computed LIME explanation for message: ዋጋ፦ 250 ብር ውስን ፍሬ ነው ያለው አድራሻ ቢሮ ቁ S05S06 09026607...\n",
      "2025-07-22 19:09:17,140 - INFO - Processed new message 4/50\n",
      "2025-07-22 19:09:17,524 - ERROR - Error in SHAP explanation for message: ዋጋ፦ 250 ብር ውስን ፍሬ ነው ያለው አድራሻ ቢሮ ቁ S05S06 09026607...: tuple index out of range\n",
      "2025-07-22 19:10:40,658 - INFO - Computed LIME explanation for message: ዋጋ፦ 250 ብር ውስን ፍሬ ነው ያለው አድራሻ ቢሮ ቁ S05S06 09026607...\n",
      "2025-07-22 19:10:40,659 - INFO - Processed new message 5/50\n",
      "2025-07-22 19:10:41,961 - INFO - Processed new message 6/50\n",
      "2025-07-22 19:10:42,551 - INFO - Processed new message 7/50\n",
      "2025-07-22 19:10:43,333 - INFO - Processed new message 8/50\n",
      "2025-07-22 19:10:43,767 - INFO - Processed new message 9/50\n",
      "2025-07-22 19:10:45,047 - INFO - Processed new message 10/50\n",
      "2025-07-22 19:10:45,483 - INFO - Processed new message 11/50\n",
      "2025-07-22 19:10:46,071 - INFO - Processed new message 12/50\n",
      "2025-07-22 19:10:46,569 - INFO - Processed new message 13/50\n",
      "2025-07-22 19:10:47,191 - INFO - Processed new message 14/50\n",
      "2025-07-22 19:10:47,752 - INFO - Processed new message 15/50\n",
      "2025-07-22 19:10:48,257 - INFO - Processed new message 16/50\n",
      "2025-07-22 19:10:48,751 - INFO - Processed new message 17/50\n",
      "2025-07-22 19:10:49,197 - INFO - Processed new message 18/50\n",
      "2025-07-22 19:10:49,648 - INFO - Processed new message 19/50\n",
      "2025-07-22 19:10:50,279 - INFO - Processed new message 20/50\n",
      "2025-07-22 19:10:50,711 - INFO - Processed new message 21/50\n",
      "2025-07-22 19:10:51,362 - INFO - Processed new message 22/50\n",
      "2025-07-22 19:10:52,440 - INFO - Processed new message 23/50\n",
      "2025-07-22 19:10:52,880 - INFO - Processed new message 24/50\n",
      "2025-07-22 19:10:53,327 - INFO - Processed new message 25/50\n",
      "2025-07-22 19:10:53,797 - INFO - Processed new message 26/50\n",
      "2025-07-22 19:10:54,433 - INFO - Processed new message 27/50\n",
      "2025-07-22 19:10:54,891 - INFO - Processed new message 28/50\n",
      "2025-07-22 19:10:55,412 - INFO - Processed new message 29/50\n",
      "2025-07-22 19:10:55,861 - INFO - Processed new message 30/50\n",
      "2025-07-22 19:10:56,431 - INFO - Processed new message 31/50\n",
      "2025-07-22 19:10:56,866 - INFO - Processed new message 32/50\n",
      "2025-07-22 19:10:57,496 - INFO - Processed new message 33/50\n",
      "2025-07-22 19:10:57,962 - INFO - Processed new message 34/50\n",
      "2025-07-22 19:10:58,416 - INFO - Processed new message 35/50\n",
      "2025-07-22 19:10:58,887 - INFO - Processed new message 36/50\n",
      "2025-07-22 19:11:00,031 - INFO - Processed new message 37/50\n",
      "2025-07-22 19:11:00,485 - INFO - Processed new message 38/50\n",
      "2025-07-22 19:11:00,936 - INFO - Processed new message 39/50\n",
      "2025-07-22 19:11:01,678 - INFO - Processed new message 40/50\n",
      "2025-07-22 19:11:02,132 - INFO - Processed new message 41/50\n",
      "2025-07-22 19:11:03,038 - INFO - Processed new message 42/50\n",
      "2025-07-22 19:11:03,505 - INFO - Processed new message 43/50\n",
      "2025-07-22 19:11:04,059 - INFO - Processed new message 44/50\n",
      "2025-07-22 19:11:04,510 - INFO - Processed new message 45/50\n",
      "2025-07-22 19:11:04,970 - INFO - Processed new message 46/50\n",
      "2025-07-22 19:11:05,396 - INFO - Processed new message 47/50\n",
      "2025-07-22 19:11:06,018 - INFO - Processed new message 48/50\n",
      "2025-07-22 19:11:08,205 - INFO - Processed new message 49/50\n",
      "2025-07-22 19:11:08,622 - INFO - Processed new message 50/50\n"
     ]
    }
   ],
   "source": [
    "# Analyze new messages\n",
    "for idx, message in enumerate(messages):\n",
    "    tokens, pred_labels, logits = predict_entities(message, tokenizer, model, id2label, device)\n",
    "            \n",
    "    if idx < 5:\n",
    "        shap_values = apply_shap(message, tokenizer, model, id2label, device)\n",
    "        lime_weights = apply_lime(message, tokenizer, model, id2label, device)\n",
    "    else:\n",
    "        shap_values = []\n",
    "        lime_weights = []\n",
    "\n",
    "    results.append({\n",
    "        \"message\": message,\n",
    "        \"true_labels\": \"N/A\",\n",
    "        \"pred_labels\": \", \".join(pred_labels),\n",
    "        \"shap_values\": str(shap_values),\n",
    "        \"lime_weights\": str(lime_weights)\n",
    "    })\n",
    "    logger.info(f\"Processed new message {idx + 1}/{len(messages)}\")"
   ]
  },
  {
   "cell_type": "code",
   "execution_count": 11,
   "id": "d5be7879",
   "metadata": {},
   "outputs": [
    {
     "name": "stderr",
     "output_type": "stream",
     "text": [
      "2025-07-22 19:13:49,614 - INFO - Saved interpretability results to ../data/interpretability_results.csv\n"
     ]
    }
   ],
   "source": [
    "# Save results\n",
    "df_results = pd.DataFrame(results)\n",
    "df_results.to_csv(output_file, index=False, encoding='utf-8')\n",
    "logger.info(f\"Saved interpretability results to {output_file}\")"
   ]
  },
  {
   "cell_type": "code",
   "execution_count": 12,
   "id": "97c48323",
   "metadata": {},
   "outputs": [
    {
     "name": "stderr",
     "output_type": "stream",
     "text": [
      "2025-07-22 19:14:24,904 - INFO - Generated interpretability report to ../Task5_Interpretability_Report.md\n"
     ]
    }
   ],
   "source": [
    "# Generate interpretability report\n",
    "with open(report_file, 'w', encoding='utf-8') as f:\n",
    "    f.write(\"# Named Entity Recognition Model Interpretability Report\\n\\n\")\n",
    "    f.write(\"This report provides insights into the behavior of the Amharic NER model using SHAP and LIME.\\n\\n\")\n",
    "    \n",
    "    f.write(\"## 1. Model Performance\\n\")\n",
    "    f.write(\"The fine-tuned `Davlan/afro-xlmr-base` model achieved an F1 score of 0.9187 (from Task 4) on the Amharic NER dataset.\\n\\n\")\n",
    "\n",
    "    f.write(\"## 2. Difficult Cases from Validation Set\\n\\n\")\n",
    "    if difficult_cases:\n",
    "        f.write(f\"Identified {len(difficult_cases)} difficult cases (mismatches or low-confidence predictions, logits < 0.9):\\n\\n\")\n",
    "        for i, case in enumerate(difficult_cases[:5]):  # Limit to 5 for brevity\n",
    "            f.write(f\"### Case {i+1}:\\n\")\n",
    "            f.write(f\"- **Message:** {case['message']}\\n\")\n",
    "            f.write(f\"- **True Labels:** {', '.join(case['true_labels'])}\\n\")\n",
    "            f.write(f\"- **Predicted Labels:** {', '.join(case['pred_labels'])}\\n\")\n",
    "            f.write(f\"- **Max Logits (Confidence):** {', '.join(f'{l:.2f}' for l in case['logits'])}\\n\\n\")\n",
    "    else:\n",
    "        f.write(\"No difficult cases identified based on the defined criteria.\\n\\n\")\n",
    "\n",
    "    f.write(\"## 3. SHAP and LIME Explanations\\n\\n\")\n",
    "    f.write(\"SHAP and LIME were applied to the first 5 validation examples and new messages to explain token contributions.\\n\\n\")\n",
    "    explained_results = [r for r in results if r.get('shap_values') and r.get('shap_values') != '[]']\n",
    "    if explained_results:\n",
    "        for i, row in enumerate(explained_results[:5]):\n",
    "            f.write(f\"### Explanation for Message {i+1}:\\n\")\n",
    "            f.write(f\"- **Message:** {row['message']}\\n\")\n",
    "            f.write(f\"- **Predicted Labels:** {row['pred_labels']}\\n\")\n",
    "            f.write(f\"- **SHAP Values:** {row['shap_values']}\\n\")\n",
    "            f.write(f\"- **LIME Weights:** {row['lime_weights']}\\n\\n\")\n",
    "    else:\n",
    "        f.write(\"No SHAP/LIME explanations generated (possible errors during processing).\\n\\n\")\n",
    "    \n",
    "    f.write(\"## 4. Recommendations\\n\")\n",
    "    f.write(\"- **Increase Dataset Size**: Label 300–500 additional messages to improve robustness, especially for rare labels like `I-LOC`.\\n\")\n",
    "    f.write(\"- **Handle Ambiguity**: Add training examples with ambiguous tokens (e.g., numbers like '360' as attributes or prices).\\n\")\n",
    "    f.write(\"- **Optimize Inference**: Quantize the model to reduce inference time (0.5105s/sample from Task 4).\\n\")\n",
    "    f.write(\"- **Custom Explainers**: Develop NER-specific explainers for better token-level insights.\\n\\n\")\n",
    "\n",
    "    f.write(\"## 5. Conclusion\\n\")\n",
    "    f.write(\"SHAP and LIME provide valuable insights into the `Davlan/afro-xlmr-base` model’s decisions for Amharic NER. Addressing dataset limitations and ambiguities will further enhance performance. Results are saved in `interpretability_results.csv`, and logs are in `interpret_ner_log.log`.\\n\")\n",
    "\n",
    "logger.info(f\"Generated interpretability report to {report_file}\")"
   ]
  }
 ],
 "metadata": {
  "kernelspec": {
   "display_name": ".amhenv",
   "language": "python",
   "name": "python3"
  },
  "language_info": {
   "codemirror_mode": {
    "name": "ipython",
    "version": 3
   },
   "file_extension": ".py",
   "mimetype": "text/x-python",
   "name": "python",
   "nbconvert_exporter": "python",
   "pygments_lexer": "ipython3",
   "version": "3.12.10"
  }
 },
 "nbformat": 4,
 "nbformat_minor": 5
}
